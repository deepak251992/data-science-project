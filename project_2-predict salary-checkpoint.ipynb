{
 "cells": [
  {
   "cell_type": "code",
   "execution_count": 96,
   "id": "6e2e1843",
   "metadata": {},
   "outputs": [],
   "source": [
    "import pandas as pd\n",
    "import numpy as np\n",
    "from sklearn.tree import DecisionTreeClassifier\n",
    "from sklearn.model_selection import train_test_split,GridSearchCV\n",
    "from sklearn.preprocessing import StandardScaler\n",
    "from sklearn.metrics import accuracy_score,confusion_matrix,roc_auc_score,roc_auc_score\n",
    "import matplotlib.pyplot as plt\n",
    "import seaborn as sns\n",
    "from sklearn.preprocessing import OrdinalEncoder\n",
    "from sklearn.linear_model import LinearRegression\n",
    "import warnings\n",
    "warnings.filterwarnings('ignore')\n",
    "from sklearn.metrics import confusion_matrix,classification_report\n",
    "import pickle"
   ]
  },
  {
   "cell_type": "code",
   "execution_count": 97,
   "id": "24b0798b",
   "metadata": {},
   "outputs": [
    {
     "data": {
      "text/html": [
       "<div>\n",
       "<style scoped>\n",
       "    .dataframe tbody tr th:only-of-type {\n",
       "        vertical-align: middle;\n",
       "    }\n",
       "\n",
       "    .dataframe tbody tr th {\n",
       "        vertical-align: top;\n",
       "    }\n",
       "\n",
       "    .dataframe thead th {\n",
       "        text-align: right;\n",
       "    }\n",
       "</style>\n",
       "<table border=\"1\" class=\"dataframe\">\n",
       "  <thead>\n",
       "    <tr style=\"text-align: right;\">\n",
       "      <th></th>\n",
       "      <th>rank</th>\n",
       "      <th>discipline</th>\n",
       "      <th>yrs.since.phd</th>\n",
       "      <th>yrs.service</th>\n",
       "      <th>sex</th>\n",
       "      <th>salary</th>\n",
       "    </tr>\n",
       "  </thead>\n",
       "  <tbody>\n",
       "    <tr>\n",
       "      <th>0</th>\n",
       "      <td>Prof</td>\n",
       "      <td>B</td>\n",
       "      <td>19</td>\n",
       "      <td>18</td>\n",
       "      <td>Male</td>\n",
       "      <td>139750</td>\n",
       "    </tr>\n",
       "    <tr>\n",
       "      <th>1</th>\n",
       "      <td>Prof</td>\n",
       "      <td>B</td>\n",
       "      <td>20</td>\n",
       "      <td>16</td>\n",
       "      <td>Male</td>\n",
       "      <td>173200</td>\n",
       "    </tr>\n",
       "    <tr>\n",
       "      <th>2</th>\n",
       "      <td>AsstProf</td>\n",
       "      <td>B</td>\n",
       "      <td>4</td>\n",
       "      <td>3</td>\n",
       "      <td>Male</td>\n",
       "      <td>79750</td>\n",
       "    </tr>\n",
       "    <tr>\n",
       "      <th>3</th>\n",
       "      <td>Prof</td>\n",
       "      <td>B</td>\n",
       "      <td>45</td>\n",
       "      <td>39</td>\n",
       "      <td>Male</td>\n",
       "      <td>115000</td>\n",
       "    </tr>\n",
       "    <tr>\n",
       "      <th>4</th>\n",
       "      <td>Prof</td>\n",
       "      <td>B</td>\n",
       "      <td>40</td>\n",
       "      <td>41</td>\n",
       "      <td>Male</td>\n",
       "      <td>141500</td>\n",
       "    </tr>\n",
       "  </tbody>\n",
       "</table>\n",
       "</div>"
      ],
      "text/plain": [
       "       rank discipline  yrs.since.phd  yrs.service   sex  salary\n",
       "0      Prof          B             19           18  Male  139750\n",
       "1      Prof          B             20           16  Male  173200\n",
       "2  AsstProf          B              4            3  Male   79750\n",
       "3      Prof          B             45           39  Male  115000\n",
       "4      Prof          B             40           41  Male  141500"
      ]
     },
     "execution_count": 97,
     "metadata": {},
     "output_type": "execute_result"
    }
   ],
   "source": [
    "data=pd.read_csv('Salaries.csv')\n",
    "data.head()"
   ]
  },
  {
   "cell_type": "code",
   "execution_count": 98,
   "id": "d484e732",
   "metadata": {},
   "outputs": [
    {
     "data": {
      "text/html": [
       "<div>\n",
       "<style scoped>\n",
       "    .dataframe tbody tr th:only-of-type {\n",
       "        vertical-align: middle;\n",
       "    }\n",
       "\n",
       "    .dataframe tbody tr th {\n",
       "        vertical-align: top;\n",
       "    }\n",
       "\n",
       "    .dataframe thead th {\n",
       "        text-align: right;\n",
       "    }\n",
       "</style>\n",
       "<table border=\"1\" class=\"dataframe\">\n",
       "  <thead>\n",
       "    <tr style=\"text-align: right;\">\n",
       "      <th></th>\n",
       "      <th>rank</th>\n",
       "      <th>discipline</th>\n",
       "      <th>yrs_since_phd</th>\n",
       "      <th>yrs_service</th>\n",
       "      <th>sex</th>\n",
       "      <th>salary</th>\n",
       "    </tr>\n",
       "  </thead>\n",
       "  <tbody>\n",
       "    <tr>\n",
       "      <th>0</th>\n",
       "      <td>Prof</td>\n",
       "      <td>B</td>\n",
       "      <td>19</td>\n",
       "      <td>18</td>\n",
       "      <td>Male</td>\n",
       "      <td>139750</td>\n",
       "    </tr>\n",
       "    <tr>\n",
       "      <th>1</th>\n",
       "      <td>Prof</td>\n",
       "      <td>B</td>\n",
       "      <td>20</td>\n",
       "      <td>16</td>\n",
       "      <td>Male</td>\n",
       "      <td>173200</td>\n",
       "    </tr>\n",
       "    <tr>\n",
       "      <th>2</th>\n",
       "      <td>AsstProf</td>\n",
       "      <td>B</td>\n",
       "      <td>4</td>\n",
       "      <td>3</td>\n",
       "      <td>Male</td>\n",
       "      <td>79750</td>\n",
       "    </tr>\n",
       "    <tr>\n",
       "      <th>3</th>\n",
       "      <td>Prof</td>\n",
       "      <td>B</td>\n",
       "      <td>45</td>\n",
       "      <td>39</td>\n",
       "      <td>Male</td>\n",
       "      <td>115000</td>\n",
       "    </tr>\n",
       "    <tr>\n",
       "      <th>4</th>\n",
       "      <td>Prof</td>\n",
       "      <td>B</td>\n",
       "      <td>40</td>\n",
       "      <td>41</td>\n",
       "      <td>Male</td>\n",
       "      <td>141500</td>\n",
       "    </tr>\n",
       "  </tbody>\n",
       "</table>\n",
       "</div>"
      ],
      "text/plain": [
       "       rank discipline  yrs_since_phd  yrs_service   sex  salary\n",
       "0      Prof          B             19           18  Male  139750\n",
       "1      Prof          B             20           16  Male  173200\n",
       "2  AsstProf          B              4            3  Male   79750\n",
       "3      Prof          B             45           39  Male  115000\n",
       "4      Prof          B             40           41  Male  141500"
      ]
     },
     "execution_count": 98,
     "metadata": {},
     "output_type": "execute_result"
    }
   ],
   "source": [
    "data.rename(columns = {'yrs.service':'yrs_service', 'yrs.since.phd':'yrs_since_phd'}, inplace = True)\n",
    "\n",
    "data.head()"
   ]
  },
  {
   "cell_type": "code",
   "execution_count": 99,
   "id": "2b15b4b4",
   "metadata": {},
   "outputs": [
    {
     "data": {
      "text/plain": [
       "(397, 6)"
      ]
     },
     "execution_count": 99,
     "metadata": {},
     "output_type": "execute_result"
    }
   ],
   "source": [
    "data.shape"
   ]
  },
  {
   "cell_type": "code",
   "execution_count": 100,
   "id": "ffb5da14",
   "metadata": {},
   "outputs": [
    {
     "data": {
      "text/html": [
       "<div>\n",
       "<style scoped>\n",
       "    .dataframe tbody tr th:only-of-type {\n",
       "        vertical-align: middle;\n",
       "    }\n",
       "\n",
       "    .dataframe tbody tr th {\n",
       "        vertical-align: top;\n",
       "    }\n",
       "\n",
       "    .dataframe thead th {\n",
       "        text-align: right;\n",
       "    }\n",
       "</style>\n",
       "<table border=\"1\" class=\"dataframe\">\n",
       "  <thead>\n",
       "    <tr style=\"text-align: right;\">\n",
       "      <th></th>\n",
       "      <th>yrs_since_phd</th>\n",
       "      <th>yrs_service</th>\n",
       "      <th>salary</th>\n",
       "    </tr>\n",
       "  </thead>\n",
       "  <tbody>\n",
       "    <tr>\n",
       "      <th>count</th>\n",
       "      <td>397.000000</td>\n",
       "      <td>397.000000</td>\n",
       "      <td>397.000000</td>\n",
       "    </tr>\n",
       "    <tr>\n",
       "      <th>mean</th>\n",
       "      <td>22.314861</td>\n",
       "      <td>17.614610</td>\n",
       "      <td>113706.458438</td>\n",
       "    </tr>\n",
       "    <tr>\n",
       "      <th>std</th>\n",
       "      <td>12.887003</td>\n",
       "      <td>13.006024</td>\n",
       "      <td>30289.038695</td>\n",
       "    </tr>\n",
       "    <tr>\n",
       "      <th>min</th>\n",
       "      <td>1.000000</td>\n",
       "      <td>0.000000</td>\n",
       "      <td>57800.000000</td>\n",
       "    </tr>\n",
       "    <tr>\n",
       "      <th>25%</th>\n",
       "      <td>12.000000</td>\n",
       "      <td>7.000000</td>\n",
       "      <td>91000.000000</td>\n",
       "    </tr>\n",
       "    <tr>\n",
       "      <th>50%</th>\n",
       "      <td>21.000000</td>\n",
       "      <td>16.000000</td>\n",
       "      <td>107300.000000</td>\n",
       "    </tr>\n",
       "    <tr>\n",
       "      <th>75%</th>\n",
       "      <td>32.000000</td>\n",
       "      <td>27.000000</td>\n",
       "      <td>134185.000000</td>\n",
       "    </tr>\n",
       "    <tr>\n",
       "      <th>max</th>\n",
       "      <td>56.000000</td>\n",
       "      <td>60.000000</td>\n",
       "      <td>231545.000000</td>\n",
       "    </tr>\n",
       "  </tbody>\n",
       "</table>\n",
       "</div>"
      ],
      "text/plain": [
       "       yrs_since_phd  yrs_service         salary\n",
       "count     397.000000   397.000000     397.000000\n",
       "mean       22.314861    17.614610  113706.458438\n",
       "std        12.887003    13.006024   30289.038695\n",
       "min         1.000000     0.000000   57800.000000\n",
       "25%        12.000000     7.000000   91000.000000\n",
       "50%        21.000000    16.000000  107300.000000\n",
       "75%        32.000000    27.000000  134185.000000\n",
       "max        56.000000    60.000000  231545.000000"
      ]
     },
     "execution_count": 100,
     "metadata": {},
     "output_type": "execute_result"
    }
   ],
   "source": [
    "data.describe()"
   ]
  },
  {
   "cell_type": "code",
   "execution_count": 101,
   "id": "88685909",
   "metadata": {},
   "outputs": [
    {
     "data": {
      "text/plain": [
       "rank             0\n",
       "discipline       0\n",
       "yrs_since_phd    0\n",
       "yrs_service      0\n",
       "sex              0\n",
       "salary           0\n",
       "dtype: int64"
      ]
     },
     "execution_count": 101,
     "metadata": {},
     "output_type": "execute_result"
    }
   ],
   "source": [
    "data.isnull().sum()"
   ]
  },
  {
   "cell_type": "code",
   "execution_count": 102,
   "id": "cc7c880a",
   "metadata": {},
   "outputs": [
    {
     "data": {
      "image/png": "[encoded data removed]",
      "text/plain": [
       "<Figure size 432x288 with 2 Axes>"
      ]
     },
     "metadata": {
      "needs_background": "light"
     },
     "output_type": "display_data"
    }
   ],
   "source": [
    "sns.heatmap(data.isnull())\n",
    "plt.title('null values')\n",
    "plt.show()"
   ]
  },
  {
   "cell_type": "code",
   "execution_count": 103,
   "id": "a89e8370",
   "metadata": {},
   "outputs": [
    {
     "name": "stdout",
     "output_type": "stream",
     "text": [
      "['Prof' 'AsstProf' 'AssocProf']\n",
      "['B' 'A']\n",
      "['Male' 'Female']\n"
     ]
    }
   ],
   "source": [
    "print(data['rank'].unique())\n",
    "print(data['discipline'].unique())\n",
    "print(data['sex'].unique())"
   ]
  },
  {
   "cell_type": "code",
   "execution_count": 104,
   "id": "1b79dbb0",
   "metadata": {},
   "outputs": [
    {
     "data": {
      "text/html": [
       "<div>\n",
       "<style scoped>\n",
       "    .dataframe tbody tr th:only-of-type {\n",
       "        vertical-align: middle;\n",
       "    }\n",
       "\n",
       "    .dataframe tbody tr th {\n",
       "        vertical-align: top;\n",
       "    }\n",
       "\n",
       "    .dataframe thead th {\n",
       "        text-align: right;\n",
       "    }\n",
       "</style>\n",
       "<table border=\"1\" class=\"dataframe\">\n",
       "  <thead>\n",
       "    <tr style=\"text-align: right;\">\n",
       "      <th></th>\n",
       "      <th>rank</th>\n",
       "      <th>discipline</th>\n",
       "      <th>yrs_since_phd</th>\n",
       "      <th>yrs_service</th>\n",
       "      <th>sex</th>\n",
       "    </tr>\n",
       "  </thead>\n",
       "  <tbody>\n",
       "    <tr>\n",
       "      <th>0</th>\n",
       "      <td>Prof</td>\n",
       "      <td>B</td>\n",
       "      <td>19</td>\n",
       "      <td>18</td>\n",
       "      <td>Male</td>\n",
       "    </tr>\n",
       "    <tr>\n",
       "      <th>1</th>\n",
       "      <td>Prof</td>\n",
       "      <td>B</td>\n",
       "      <td>20</td>\n",
       "      <td>16</td>\n",
       "      <td>Male</td>\n",
       "    </tr>\n",
       "    <tr>\n",
       "      <th>2</th>\n",
       "      <td>AsstProf</td>\n",
       "      <td>B</td>\n",
       "      <td>4</td>\n",
       "      <td>3</td>\n",
       "      <td>Male</td>\n",
       "    </tr>\n",
       "    <tr>\n",
       "      <th>3</th>\n",
       "      <td>Prof</td>\n",
       "      <td>B</td>\n",
       "      <td>45</td>\n",
       "      <td>39</td>\n",
       "      <td>Male</td>\n",
       "    </tr>\n",
       "    <tr>\n",
       "      <th>4</th>\n",
       "      <td>Prof</td>\n",
       "      <td>B</td>\n",
       "      <td>40</td>\n",
       "      <td>41</td>\n",
       "      <td>Male</td>\n",
       "    </tr>\n",
       "    <tr>\n",
       "      <th>...</th>\n",
       "      <td>...</td>\n",
       "      <td>...</td>\n",
       "      <td>...</td>\n",
       "      <td>...</td>\n",
       "      <td>...</td>\n",
       "    </tr>\n",
       "    <tr>\n",
       "      <th>392</th>\n",
       "      <td>Prof</td>\n",
       "      <td>A</td>\n",
       "      <td>33</td>\n",
       "      <td>30</td>\n",
       "      <td>Male</td>\n",
       "    </tr>\n",
       "    <tr>\n",
       "      <th>393</th>\n",
       "      <td>Prof</td>\n",
       "      <td>A</td>\n",
       "      <td>31</td>\n",
       "      <td>19</td>\n",
       "      <td>Male</td>\n",
       "    </tr>\n",
       "    <tr>\n",
       "      <th>394</th>\n",
       "      <td>Prof</td>\n",
       "      <td>A</td>\n",
       "      <td>42</td>\n",
       "      <td>25</td>\n",
       "      <td>Male</td>\n",
       "    </tr>\n",
       "    <tr>\n",
       "      <th>395</th>\n",
       "      <td>Prof</td>\n",
       "      <td>A</td>\n",
       "      <td>25</td>\n",
       "      <td>15</td>\n",
       "      <td>Male</td>\n",
       "    </tr>\n",
       "    <tr>\n",
       "      <th>396</th>\n",
       "      <td>AsstProf</td>\n",
       "      <td>A</td>\n",
       "      <td>8</td>\n",
       "      <td>4</td>\n",
       "      <td>Male</td>\n",
       "    </tr>\n",
       "  </tbody>\n",
       "</table>\n",
       "<p>397 rows × 5 columns</p>\n",
       "</div>"
      ],
      "text/plain": [
       "         rank discipline  yrs_since_phd  yrs_service   sex\n",
       "0        Prof          B             19           18  Male\n",
       "1        Prof          B             20           16  Male\n",
       "2    AsstProf          B              4            3  Male\n",
       "3        Prof          B             45           39  Male\n",
       "4        Prof          B             40           41  Male\n",
       "..        ...        ...            ...          ...   ...\n",
       "392      Prof          A             33           30  Male\n",
       "393      Prof          A             31           19  Male\n",
       "394      Prof          A             42           25  Male\n",
       "395      Prof          A             25           15  Male\n",
       "396  AsstProf          A              8            4  Male\n",
       "\n",
       "[397 rows x 5 columns]"
      ]
     },
     "execution_count": 104,
     "metadata": {},
     "output_type": "execute_result"
    }
   ],
   "source": [
    "new_data=data.drop(columns=['salary'],axis=1)\n",
    "y=data['salary']\n",
    "new_data\n"
   ]
  },
  {
   "cell_type": "code",
   "execution_count": 105,
   "id": "bf53fc44",
   "metadata": {},
   "outputs": [],
   "source": [
    "# new_data['rank']=new_data['rank'].replace({'Prof':0,'AsstProf':1,'AssocProf':2})\n",
    "#new_data['discipline']=new_data['discipline'].replace({'A':1,'B':0})\n",
    "#new_data['sex']=new_data['sex'].replace({'Male':1,'Female':0})\n",
    "\n",
    "#new_data.head()\n",
    "from sklearn.preprocessing import LabelEncoder\n",
    "LE=LabelEncoder()\n",
    "new_data['rank']=LE.fit_transform(new_data['rank'])\n",
    "new_data['discipline']=LE.fit_transform(new_data['discipline'])\n",
    "new_data['sex']=LE.fit_transform(new_data['sex'])"
   ]
  },
  {
   "cell_type": "code",
   "execution_count": 106,
   "id": "ef412b5b",
   "metadata": {},
   "outputs": [
    {
     "data": {
      "text/html": [
       "<div>\n",
       "<style scoped>\n",
       "    .dataframe tbody tr th:only-of-type {\n",
       "        vertical-align: middle;\n",
       "    }\n",
       "\n",
       "    .dataframe tbody tr th {\n",
       "        vertical-align: top;\n",
       "    }\n",
       "\n",
       "    .dataframe thead th {\n",
       "        text-align: right;\n",
       "    }\n",
       "</style>\n",
       "<table border=\"1\" class=\"dataframe\">\n",
       "  <thead>\n",
       "    <tr style=\"text-align: right;\">\n",
       "      <th></th>\n",
       "      <th>rank</th>\n",
       "      <th>discipline</th>\n",
       "      <th>yrs_since_phd</th>\n",
       "      <th>yrs_service</th>\n",
       "      <th>sex</th>\n",
       "    </tr>\n",
       "  </thead>\n",
       "  <tbody>\n",
       "    <tr>\n",
       "      <th>0</th>\n",
       "      <td>2</td>\n",
       "      <td>1</td>\n",
       "      <td>19</td>\n",
       "      <td>18</td>\n",
       "      <td>1</td>\n",
       "    </tr>\n",
       "    <tr>\n",
       "      <th>1</th>\n",
       "      <td>2</td>\n",
       "      <td>1</td>\n",
       "      <td>20</td>\n",
       "      <td>16</td>\n",
       "      <td>1</td>\n",
       "    </tr>\n",
       "    <tr>\n",
       "      <th>2</th>\n",
       "      <td>1</td>\n",
       "      <td>1</td>\n",
       "      <td>4</td>\n",
       "      <td>3</td>\n",
       "      <td>1</td>\n",
       "    </tr>\n",
       "    <tr>\n",
       "      <th>3</th>\n",
       "      <td>2</td>\n",
       "      <td>1</td>\n",
       "      <td>45</td>\n",
       "      <td>39</td>\n",
       "      <td>1</td>\n",
       "    </tr>\n",
       "    <tr>\n",
       "      <th>4</th>\n",
       "      <td>2</td>\n",
       "      <td>1</td>\n",
       "      <td>40</td>\n",
       "      <td>41</td>\n",
       "      <td>1</td>\n",
       "    </tr>\n",
       "    <tr>\n",
       "      <th>...</th>\n",
       "      <td>...</td>\n",
       "      <td>...</td>\n",
       "      <td>...</td>\n",
       "      <td>...</td>\n",
       "      <td>...</td>\n",
       "    </tr>\n",
       "    <tr>\n",
       "      <th>392</th>\n",
       "      <td>2</td>\n",
       "      <td>0</td>\n",
       "      <td>33</td>\n",
       "      <td>30</td>\n",
       "      <td>1</td>\n",
       "    </tr>\n",
       "    <tr>\n",
       "      <th>393</th>\n",
       "      <td>2</td>\n",
       "      <td>0</td>\n",
       "      <td>31</td>\n",
       "      <td>19</td>\n",
       "      <td>1</td>\n",
       "    </tr>\n",
       "    <tr>\n",
       "      <th>394</th>\n",
       "      <td>2</td>\n",
       "      <td>0</td>\n",
       "      <td>42</td>\n",
       "      <td>25</td>\n",
       "      <td>1</td>\n",
       "    </tr>\n",
       "    <tr>\n",
       "      <th>395</th>\n",
       "      <td>2</td>\n",
       "      <td>0</td>\n",
       "      <td>25</td>\n",
       "      <td>15</td>\n",
       "      <td>1</td>\n",
       "    </tr>\n",
       "    <tr>\n",
       "      <th>396</th>\n",
       "      <td>1</td>\n",
       "      <td>0</td>\n",
       "      <td>8</td>\n",
       "      <td>4</td>\n",
       "      <td>1</td>\n",
       "    </tr>\n",
       "  </tbody>\n",
       "</table>\n",
       "<p>397 rows × 5 columns</p>\n",
       "</div>"
      ],
      "text/plain": [
       "     rank  discipline  yrs_since_phd  yrs_service  sex\n",
       "0       2           1             19           18    1\n",
       "1       2           1             20           16    1\n",
       "2       1           1              4            3    1\n",
       "3       2           1             45           39    1\n",
       "4       2           1             40           41    1\n",
       "..    ...         ...            ...          ...  ...\n",
       "392     2           0             33           30    1\n",
       "393     2           0             31           19    1\n",
       "394     2           0             42           25    1\n",
       "395     2           0             25           15    1\n",
       "396     1           0              8            4    1\n",
       "\n",
       "[397 rows x 5 columns]"
      ]
     },
     "execution_count": 106,
     "metadata": {},
     "output_type": "execute_result"
    }
   ],
   "source": [
    "new_data"
   ]
  },
  {
   "cell_type": "code",
   "execution_count": 107,
   "id": "6612a864",
   "metadata": {},
   "outputs": [
    {
     "data": {
      "text/plain": [
       "2    266\n",
       "1     67\n",
       "0     64\n",
       "Name: rank, dtype: int64"
      ]
     },
     "execution_count": 107,
     "metadata": {},
     "output_type": "execute_result"
    }
   ],
   "source": [
    "new_data['rank'].value_counts()"
   ]
  },
  {
   "cell_type": "code",
   "execution_count": 108,
   "id": "7595c521",
   "metadata": {},
   "outputs": [
    {
     "data": {
      "text/plain": [
       "<AxesSubplot:>"
      ]
     },
     "execution_count": 108,
     "metadata": {},
     "output_type": "execute_result"
    },
    {
     "data": {
      "image/png": "[encoded data removed]",
      "text/plain": [
       "<Figure size 720x1080 with 2 Axes>"
      ]
     },
     "metadata": {
      "needs_background": "light"
     },
     "output_type": "display_data"
    }
   ],
   "source": [
    "df_corr=new_data.corr().abs()\n",
    "plt.figure(figsize=(10,15))\n",
    "sns.heatmap(df_corr,annot=True,annot_kws={'size':20})"
   ]
  },
  {
   "cell_type": "code",
   "execution_count": 109,
   "id": "1a9094d1",
   "metadata": {},
   "outputs": [
    {
     "data": {
      "text/html": [
       "<div>\n",
       "<style scoped>\n",
       "    .dataframe tbody tr th:only-of-type {\n",
       "        vertical-align: middle;\n",
       "    }\n",
       "\n",
       "    .dataframe tbody tr th {\n",
       "        vertical-align: top;\n",
       "    }\n",
       "\n",
       "    .dataframe thead th {\n",
       "        text-align: right;\n",
       "    }\n",
       "</style>\n",
       "<table border=\"1\" class=\"dataframe\">\n",
       "  <thead>\n",
       "    <tr style=\"text-align: right;\">\n",
       "      <th></th>\n",
       "      <th>rank</th>\n",
       "      <th>discipline</th>\n",
       "      <th>yrs_since_phd</th>\n",
       "      <th>yrs_service</th>\n",
       "      <th>sex</th>\n",
       "    </tr>\n",
       "  </thead>\n",
       "  <tbody>\n",
       "    <tr>\n",
       "      <th>0</th>\n",
       "      <td>2</td>\n",
       "      <td>1</td>\n",
       "      <td>19</td>\n",
       "      <td>18</td>\n",
       "      <td>1</td>\n",
       "    </tr>\n",
       "    <tr>\n",
       "      <th>1</th>\n",
       "      <td>2</td>\n",
       "      <td>1</td>\n",
       "      <td>20</td>\n",
       "      <td>16</td>\n",
       "      <td>1</td>\n",
       "    </tr>\n",
       "    <tr>\n",
       "      <th>2</th>\n",
       "      <td>1</td>\n",
       "      <td>1</td>\n",
       "      <td>4</td>\n",
       "      <td>3</td>\n",
       "      <td>1</td>\n",
       "    </tr>\n",
       "    <tr>\n",
       "      <th>3</th>\n",
       "      <td>2</td>\n",
       "      <td>1</td>\n",
       "      <td>45</td>\n",
       "      <td>39</td>\n",
       "      <td>1</td>\n",
       "    </tr>\n",
       "    <tr>\n",
       "      <th>4</th>\n",
       "      <td>2</td>\n",
       "      <td>1</td>\n",
       "      <td>40</td>\n",
       "      <td>41</td>\n",
       "      <td>1</td>\n",
       "    </tr>\n",
       "  </tbody>\n",
       "</table>\n",
       "</div>"
      ],
      "text/plain": [
       "   rank  discipline  yrs_since_phd  yrs_service  sex\n",
       "0     2           1             19           18    1\n",
       "1     2           1             20           16    1\n",
       "2     1           1              4            3    1\n",
       "3     2           1             45           39    1\n",
       "4     2           1             40           41    1"
      ]
     },
     "execution_count": 109,
     "metadata": {},
     "output_type": "execute_result"
    }
   ],
   "source": [
    "new_data.head()"
   ]
  },
  {
   "cell_type": "code",
   "execution_count": 110,
   "id": "1dbe64bd",
   "metadata": {},
   "outputs": [
    {
     "data": {
      "image/png": "[encoded data removed]",
      "text/plain": [
       "<Figure size 720x360 with 5 Axes>"
      ]
     },
     "metadata": {},
     "output_type": "display_data"
    }
   ],
   "source": [
    "plt.figure(figsize=(10,5),facecolor='yellow')\n",
    "plotnumber=1\n",
    "for column in new_data:\n",
    "    if plotnumber<=6:\n",
    "        ax=plt.subplot(2,3,plotnumber)\n",
    "        sns.distplot(new_data[column])\n",
    "        plt.xlabel(column,fontsize=20)\n",
    "    plotnumber+=1\n",
    "plt.tight_layout()\n"
   ]
  },
  {
   "cell_type": "code",
   "execution_count": 111,
   "id": "84e8c6ac",
   "metadata": {},
   "outputs": [
    {
     "data": {
      "image/png": "[encoded data removed]",
      "text/plain": [
       "<Figure size 720x360 with 5 Axes>"
      ]
     },
     "metadata": {},
     "output_type": "display_data"
    }
   ],
   "source": [
    "plt.figure(figsize=(10,5),facecolor='yellow')\n",
    "plotnumber=1\n",
    "for column in new_data:\n",
    "    if plotnumber<=6:\n",
    "        ax=plt.subplot(2,3,plotnumber)\n",
    "        sns.boxplot(data=new_data[column])\n",
    "        plt.xlabel(column,fontsize=20)\n",
    "    plotnumber+=1\n",
    "plt.tight_layout()\n"
   ]
  },
  {
   "cell_type": "code",
   "execution_count": 112,
   "id": "afc9da26",
   "metadata": {},
   "outputs": [
    {
     "data": {
      "text/plain": [
       "rank              1.0\n",
       "discipline        1.0\n",
       "yrs_since_phd    20.0\n",
       "yrs_service      20.0\n",
       "sex               0.0\n",
       "dtype: float64"
      ]
     },
     "execution_count": 112,
     "metadata": {},
     "output_type": "execute_result"
    }
   ],
   "source": [
    "q1=new_data.quantile(.25)\n",
    "q3=new_data.quantile(.75)\n",
    "iqr=q3-q1\n",
    "iqr\n"
   ]
  },
  {
   "cell_type": "code",
   "execution_count": 113,
   "id": "199cc71d",
   "metadata": {},
   "outputs": [
    {
     "name": "stdout",
     "output_type": "stream",
     "text": [
      "(396, 5)\n"
     ]
    }
   ],
   "source": [
    "# Validating OUtliers\n",
    "\n",
    "yrs_service_high = q3.yrs_service + (1.5 * iqr.yrs_service)\n",
    "\n",
    "# Check the Indexes which have higher values\n",
    "\n",
    "index1 = np.where(new_data['yrs_service']> yrs_service_high)\n",
    "\n",
    "new_data = new_data.drop(new_data.index[index1])\n",
    "y = y.drop(y.index[index1])\n",
    "\n",
    "print(new_data.shape)"
   ]
  },
  {
   "cell_type": "code",
   "execution_count": 114,
   "id": "e57cfe8b",
   "metadata": {},
   "outputs": [],
   "source": [
    "\n",
    "scaler=StandardScaler()\n",
    "X_scaled=scaler.fit_transform(new_data)\n"
   ]
  },
  {
   "cell_type": "code",
   "execution_count": 115,
   "id": "eb75d472",
   "metadata": {},
   "outputs": [
    {
     "data": {
      "text/plain": [
       "(396,)"
      ]
     },
     "execution_count": 115,
     "metadata": {},
     "output_type": "execute_result"
    }
   ],
   "source": [
    "y.shape"
   ]
  },
  {
   "cell_type": "code",
   "execution_count": 116,
   "id": "c0528628",
   "metadata": {},
   "outputs": [
    {
     "name": "stdout",
     "output_type": "stream",
     "text": [
      "r2_score 33.57877848391403 % random_state 1\n",
      "r2_score 33.57877848391403 % random_state 1\n",
      "r2_score 37.4538019072183 % random_state 2\n",
      "r2_score 37.4538019072183 % random_state 2\n",
      "r2_score 41.68475113951153 % random_state 3\n",
      "r2_score 41.68475113951153 % random_state 3\n",
      "r2_score 32.884255267954934 % random_state 4\n",
      "r2_score 32.88347952650228 % random_state 5\n",
      "r2_score 24.87850617812809 % random_state 6\n",
      "r2_score 44.598315177067285 % random_state 7\n",
      "r2_score 44.598315177067285 % random_state 7\n",
      "r2_score 17.98485534513048 % random_state 8\n",
      "r2_score 33.10412699305625 % random_state 9\n",
      "r2_score 36.407603340803405 % random_state 10\n",
      "r2_score 30.410646046967404 % random_state 11\n",
      "r2_score 28.130900315419538 % random_state 12\n",
      "r2_score 26.573416323077335 % random_state 13\n",
      "r2_score 6.142169130914443 % random_state 14\n",
      "r2_score 41.05620998171573 % random_state 15\n",
      "r2_score 37.71323841031832 % random_state 16\n",
      "r2_score 33.00430105762231 % random_state 17\n",
      "r2_score 34.43141195356218 % random_state 18\n",
      "r2_score 40.54350257090492 % random_state 19\n",
      "r2_score 40.049433123614875 % random_state 20\n",
      "r2_score 35.43284412107415 % random_state 21\n",
      "r2_score 34.63088153801035 % random_state 22\n",
      "r2_score 24.21478400009699 % random_state 23\n",
      "r2_score 22.480670975639082 % random_state 24\n",
      "r2_score 24.552754146537037 % random_state 25\n",
      "r2_score 25.710108723588476 % random_state 26\n",
      "r2_score 25.21135950180672 % random_state 27\n",
      "r2_score 32.94230976816747 % random_state 28\n",
      "r2_score 28.187596436131766 % random_state 29\n",
      "r2_score 30.766928086303913 % random_state 30\n",
      "r2_score 26.477940887723616 % random_state 31\n",
      "r2_score 38.88259357248736 % random_state 32\n",
      "r2_score 34.65714260652176 % random_state 33\n",
      "r2_score 39.798605441657585 % random_state 34\n",
      "r2_score 34.242842132242316 % random_state 35\n",
      "r2_score -0.7795929071024776 % random_state 36\n",
      "r2_score 42.08406256420037 % random_state 37\n",
      "r2_score 34.960798162223625 % random_state 38\n",
      "r2_score 37.16301269680616 % random_state 39\n",
      "r2_score 40.485290188382365 % random_state 40\n",
      "r2_score 31.16199688164667 % random_state 41\n",
      "r2_score 23.65642531210661 % random_state 42\n",
      "r2_score 34.14345860758725 % random_state 43\n",
      "r2_score 29.013093797259593 % random_state 44\n",
      "r2_score 32.951486290273536 % random_state 45\n",
      "r2_score 37.042839740577705 % random_state 46\n",
      "r2_score 40.944412003899124 % random_state 47\n",
      "r2_score 33.434221738799266 % random_state 48\n",
      "r2_score 30.48678281431998 % random_state 49\n",
      "r2_score 30.282205784732984 % random_state 50\n",
      "r2_score 34.685415274129205 % random_state 51\n",
      "r2_score 25.217448261703346 % random_state 52\n",
      "r2_score 35.761120475280414 % random_state 53\n",
      "r2_score 26.016165018264005 % random_state 54\n",
      "r2_score 33.37780016175833 % random_state 55\n",
      "r2_score 33.8316412107874 % random_state 56\n",
      "r2_score 32.018819402326535 % random_state 57\n",
      "r2_score 39.627256583648915 % random_state 58\n",
      "r2_score 28.067274249399976 % random_state 59\n",
      "r2_score 39.358728092511555 % random_state 60\n",
      "r2_score 35.59383871556945 % random_state 61\n",
      "r2_score 35.78653833262827 % random_state 62\n",
      "r2_score 35.97243661005519 % random_state 63\n",
      "r2_score 48.15387587847258 % random_state 64\n",
      "r2_score 48.15387587847258 % random_state 64\n",
      "r2_score 37.36187522768242 % random_state 65\n",
      "r2_score 33.9401355958729 % random_state 66\n",
      "r2_score 38.16810799973879 % random_state 67\n",
      "r2_score 33.11078531424534 % random_state 68\n",
      "r2_score 34.68101518565718 % random_state 69\n",
      "r2_score 13.49783193390749 % random_state 70\n",
      "r2_score 36.44379305893829 % random_state 71\n",
      "r2_score 41.467284153573345 % random_state 72\n",
      "r2_score 32.64524403869324 % random_state 73\n",
      "r2_score 39.383533678963545 % random_state 74\n",
      "r2_score 27.259548318729788 % random_state 75\n",
      "r2_score 25.046146778137945 % random_state 76\n",
      "r2_score 25.68647138926723 % random_state 77\n",
      "r2_score 29.644362971663018 % random_state 78\n",
      "r2_score 43.778920384781706 % random_state 79\n",
      "r2_score 44.6578779119212 % random_state 80\n",
      "r2_score 39.2206948466447 % random_state 81\n",
      "r2_score 37.5942455225587 % random_state 82\n",
      "r2_score 17.281487713445244 % random_state 83\n",
      "r2_score 44.396748367508344 % random_state 84\n",
      "r2_score 41.29059072601299 % random_state 85\n",
      "r2_score 29.890702288661487 % random_state 86\n",
      "r2_score 34.445908460436605 % random_state 87\n",
      "r2_score 47.51807713408248 % random_state 88\n",
      "r2_score 32.79937127020921 % random_state 89\n",
      "r2_score 38.27102015239243 % random_state 90\n",
      "r2_score 43.21285617524641 % random_state 91\n",
      "r2_score 38.65098363093233 % random_state 92\n",
      "r2_score 32.16358387258937 % random_state 93\n",
      "r2_score 14.769675202037114 % random_state 94\n",
      "r2_score 40.79366599317245 % random_state 95\n",
      "r2_score 39.35398614204529 % random_state 96\n",
      "r2_score 37.396669200939755 % random_state 97\n",
      "r2_score 42.329657866989464 % random_state 98\n",
      "r2_score 39.25371464634326 % random_state 99\n",
      "r2_score 37.70452938171164 % random_state 100\n",
      "r2_score 39.393290144997806 % random_state 101\n",
      "r2_score 38.96160986524173 % random_state 102\n",
      "r2_score 26.785531363845795 % random_state 103\n",
      "r2_score 39.759465013829306 % random_state 104\n",
      "r2_score 30.815382864534314 % random_state 105\n",
      "r2_score 27.652819649215353 % random_state 106\n",
      "r2_score 36.640853081247634 % random_state 107\n",
      "r2_score 31.116219043662863 % random_state 108\n",
      "r2_score 17.291192284808933 % random_state 109\n",
      "r2_score 34.6297173785171 % random_state 110\n",
      "r2_score 38.07172282285348 % random_state 111\n",
      "r2_score 38.37475294756552 % random_state 112\n",
      "r2_score 42.690607628739286 % random_state 113\n",
      "r2_score 43.371872495562144 % random_state 114\n",
      "r2_score 35.23820714939262 % random_state 115\n",
      "r2_score 32.34252947023182 % random_state 116\n",
      "r2_score 34.8151629469604 % random_state 117\n",
      "r2_score 31.314754038667424 % random_state 118\n",
      "r2_score 39.29556666042087 % random_state 119\n",
      "r2_score 39.82081312302424 % random_state 120\n",
      "r2_score 32.24425451822815 % random_state 121\n",
      "r2_score 40.36812736491271 % random_state 122\n",
      "r2_score 28.26778994762298 % random_state 123\n",
      "r2_score 39.05540439729115 % random_state 124\n",
      "r2_score 37.72963563382068 % random_state 125\n",
      "r2_score 22.697100860183696 % random_state 126\n",
      "r2_score 35.111959409206214 % random_state 127\n",
      "r2_score 27.875395698082883 % random_state 128\n",
      "r2_score 32.85714325415208 % random_state 129\n",
      "r2_score 33.37943686056959 % random_state 130\n",
      "r2_score 32.969723356524696 % random_state 131\n",
      "r2_score 39.64205953358807 % random_state 132\n",
      "r2_score 27.24039386540833 % random_state 133\n",
      "r2_score 40.83638463172292 % random_state 134\n",
      "r2_score 36.55007357394348 % random_state 135\n",
      "r2_score 35.73893721837504 % random_state 136\n",
      "r2_score 34.954071654102115 % random_state 137\n",
      "r2_score 32.75617254996934 % random_state 138\n",
      "r2_score 35.23977117415874 % random_state 139\n",
      "r2_score 30.917278724769993 % random_state 140\n",
      "r2_score 35.73652005707957 % random_state 141\n",
      "r2_score 24.21647048993979 % random_state 142\n",
      "r2_score 36.024766854317235 % random_state 143\n",
      "r2_score 37.991347479152246 % random_state 144\n",
      "r2_score 37.10907105244121 % random_state 145\n",
      "r2_score 37.29082126429068 % random_state 146\n",
      "r2_score 43.53235060198366 % random_state 147\n",
      "r2_score 46.05218442197031 % random_state 148\n",
      "r2_score 31.857573396318394 % random_state 149\n",
      "r2_score 23.271239784976704 % random_state 150\n",
      "r2_score 29.417198425123246 % random_state 151\n",
      "r2_score 37.020333630973056 % random_state 152\n",
      "r2_score 43.51856802363019 % random_state 153\n",
      "r2_score 38.98693825700504 % random_state 154\n",
      "r2_score 31.1511490449347 % random_state 155\n",
      "r2_score 27.838678884250445 % random_state 156\n",
      "r2_score 41.865275600843766 % random_state 157\n",
      "r2_score 29.508760375864384 % random_state 158\n",
      "r2_score 31.45820730913602 % random_state 159\n",
      "r2_score 29.152278594233916 % random_state 160\n",
      "r2_score 13.890182861153388 % random_state 161\n",
      "r2_score 26.798348431414997 % random_state 162\n",
      "r2_score 36.74100687174931 % random_state 163\n",
      "r2_score 24.692025657196094 % random_state 164\n",
      "r2_score 29.13131499616124 % random_state 165\n",
      "r2_score 39.37799263520421 % random_state 166\n",
      "r2_score 35.46074163629021 % random_state 167\n",
      "r2_score 39.23275145169009 % random_state 168\n",
      "r2_score 40.460437925019676 % random_state 169\n",
      "r2_score 30.16985161504747 % random_state 170\n",
      "r2_score 40.56947725013076 % random_state 171\n",
      "r2_score 27.963332871684322 % random_state 172\n",
      "r2_score 35.05967273768205 % random_state 173\n",
      "r2_score 32.34449189228245 % random_state 174\n",
      "r2_score 33.617244414666615 % random_state 175\n",
      "r2_score 33.00064628038493 % random_state 176\n",
      "r2_score 22.620229016621394 % random_state 177\n",
      "r2_score 25.379533185346315 % random_state 178\n",
      "r2_score 38.1688929136421 % random_state 179\n",
      "r2_score 30.244927178948956 % random_state 180\n"
     ]
    },
    {
     "name": "stdout",
     "output_type": "stream",
     "text": [
      "r2_score 24.97924865324743 % random_state 181\n",
      "r2_score 39.46555711186648 % random_state 182\n",
      "r2_score 35.816404413694734 % random_state 183\n",
      "r2_score 35.5000698907723 % random_state 184\n",
      "r2_score 35.77326480786185 % random_state 185\n",
      "r2_score 39.446180825425245 % random_state 186\n",
      "r2_score 42.69419398534298 % random_state 187\n",
      "r2_score 40.24475504204021 % random_state 188\n",
      "r2_score 37.66508685251989 % random_state 189\n",
      "r2_score 44.349462540191944 % random_state 190\n",
      "r2_score 39.23784246140619 % random_state 191\n",
      "r2_score 38.220623244730824 % random_state 192\n",
      "r2_score 41.1118649914906 % random_state 193\n",
      "r2_score 34.02496145020771 % random_state 194\n",
      "r2_score 30.50644416154554 % random_state 195\n",
      "r2_score 23.632075106070026 % random_state 196\n",
      "r2_score 44.414770976380325 % random_state 197\n",
      "r2_score 33.12735085634551 % random_state 198\n",
      "r2_score 32.31914100958657 % random_state 199\n",
      "r2_score 36.675412461456766 % random_state 200\n",
      "r2_score 35.95872145884871 % random_state 201\n",
      "r2_score 42.58081457478211 % random_state 202\n",
      "r2_score 36.68106641052038 % random_state 203\n",
      "r2_score 28.756191340534965 % random_state 204\n",
      "r2_score 27.503100524870927 % random_state 205\n",
      "r2_score 34.63467044551878 % random_state 206\n",
      "r2_score 34.05512220788707 % random_state 207\n",
      "r2_score 37.870496586966254 % random_state 208\n",
      "r2_score 42.75933176451571 % random_state 209\n",
      "r2_score 28.024081110128098 % random_state 210\n",
      "r2_score 29.35523684772896 % random_state 211\n",
      "r2_score 34.636638091515294 % random_state 212\n",
      "r2_score 40.65593772804541 % random_state 213\n",
      "r2_score 29.481246481507874 % random_state 214\n",
      "r2_score 28.350766253552862 % random_state 215\n",
      "r2_score 32.16994702599648 % random_state 216\n",
      "r2_score 27.657859849847068 % random_state 217\n",
      "r2_score 35.776343586004835 % random_state 218\n",
      "r2_score 30.039009227643653 % random_state 219\n",
      "r2_score 40.748240878090556 % random_state 220\n",
      "r2_score 32.966987647164544 % random_state 221\n",
      "r2_score 38.48677828589402 % random_state 222\n",
      "r2_score 34.764164526455396 % random_state 223\n",
      "r2_score 27.14638435186505 % random_state 224\n",
      "r2_score 28.72016180430731 % random_state 225\n",
      "r2_score 34.39775636738591 % random_state 226\n",
      "r2_score 37.486235514992714 % random_state 227\n",
      "r2_score 36.846497980831685 % random_state 228\n",
      "r2_score 33.673427584108794 % random_state 229\n",
      "r2_score 31.58909517400724 % random_state 230\n",
      "r2_score 34.31124168561085 % random_state 231\n",
      "r2_score 32.367159582181095 % random_state 232\n",
      "r2_score 35.498717254440294 % random_state 233\n",
      "r2_score 33.072939472345176 % random_state 234\n",
      "r2_score 52.430517016266464 % random_state 235\n",
      "r2_score 52.430517016266464 % random_state 235\n",
      "r2_score 38.9139684213577 % random_state 236\n",
      "r2_score 28.741826043791775 % random_state 237\n",
      "r2_score 34.23031815914045 % random_state 238\n",
      "r2_score 41.27148431601131 % random_state 239\n",
      "r2_score 37.77486203317393 % random_state 240\n",
      "r2_score 22.540665837947515 % random_state 241\n",
      "r2_score 27.804928393167017 % random_state 242\n",
      "r2_score 23.86533580833715 % random_state 243\n",
      "r2_score 37.748824195210126 % random_state 244\n",
      "r2_score 40.30708185468173 % random_state 245\n",
      "r2_score 36.77209516516786 % random_state 246\n",
      "r2_score 37.94911087960634 % random_state 247\n",
      "r2_score 44.49452251340074 % random_state 248\n",
      "r2_score 40.15160057546821 % random_state 249\n",
      "r2_score 36.46888153919387 % random_state 250\n",
      "r2_score 40.526645868510705 % random_state 251\n",
      "r2_score 43.93404367970193 % random_state 252\n",
      "r2_score 37.96995786684894 % random_state 253\n",
      "r2_score 32.58739619653538 % random_state 254\n",
      "r2_score 32.12220954990455 % random_state 255\n",
      "r2_score 33.42670541016497 % random_state 256\n",
      "r2_score 34.751427366452305 % random_state 257\n",
      "r2_score 36.46847387839297 % random_state 258\n",
      "r2_score 37.38587385195306 % random_state 259\n",
      "r2_score 15.720551210467082 % random_state 260\n",
      "r2_score 29.97486555258745 % random_state 261\n",
      "r2_score 36.60248783818392 % random_state 262\n",
      "r2_score 33.44987491274316 % random_state 263\n",
      "r2_score 35.57181927318346 % random_state 264\n",
      "r2_score 35.32420058491611 % random_state 265\n",
      "r2_score 25.838195712663147 % random_state 266\n",
      "r2_score 34.84336376465295 % random_state 267\n",
      "r2_score 37.95918496044975 % random_state 268\n",
      "r2_score 33.76518308550956 % random_state 269\n",
      "r2_score 42.44384523897643 % random_state 270\n",
      "r2_score 42.21333151107284 % random_state 271\n",
      "r2_score 41.110891557164386 % random_state 272\n",
      "r2_score 30.04288529759387 % random_state 273\n",
      "r2_score 38.22134351474137 % random_state 274\n",
      "r2_score 27.48429486929631 % random_state 275\n",
      "r2_score 34.73256261376214 % random_state 276\n",
      "r2_score 33.029620560494585 % random_state 277\n",
      "r2_score 41.097530601615226 % random_state 278\n",
      "r2_score 37.3476335691436 % random_state 279\n",
      "r2_score 40.03044885800827 % random_state 280\n",
      "r2_score 37.186218742770805 % random_state 281\n",
      "r2_score 37.92852973400305 % random_state 282\n",
      "r2_score 38.15286524150777 % random_state 283\n",
      "r2_score 36.77819875030097 % random_state 284\n",
      "r2_score 20.609256397619134 % random_state 285\n",
      "r2_score 32.47290711003154 % random_state 286\n",
      "r2_score 28.61360568280874 % random_state 287\n",
      "r2_score 28.667734117450905 % random_state 288\n",
      "r2_score 21.86013013643634 % random_state 289\n",
      "r2_score 20.480043657459802 % random_state 290\n",
      "r2_score 30.17248194669819 % random_state 291\n",
      "r2_score 30.005120968949573 % random_state 292\n",
      "r2_score 33.385578574867026 % random_state 293\n",
      "r2_score 30.32120344181398 % random_state 294\n",
      "r2_score 36.34335932202961 % random_state 295\n",
      "r2_score 31.427835965114536 % random_state 296\n",
      "r2_score 47.32771971760648 % random_state 297\n",
      "r2_score 37.77779993882451 % random_state 298\n",
      "r2_score 38.11481744184141 % random_state 299\n",
      "r2_score 26.85022736114696 % random_state 300\n",
      "r2_score 31.44560018544784 % random_state 301\n",
      "r2_score 37.13459107997069 % random_state 302\n",
      "r2_score 25.29399034151605 % random_state 303\n",
      "r2_score 38.3403525045953 % random_state 304\n",
      "r2_score 38.73995472139485 % random_state 305\n",
      "r2_score 26.350139651038663 % random_state 306\n",
      "r2_score 34.16292555110705 % random_state 307\n",
      "r2_score 19.366772866534898 % random_state 308\n",
      "r2_score 37.852126650905284 % random_state 309\n",
      "r2_score 29.118161908417704 % random_state 310\n",
      "r2_score 37.20009398866083 % random_state 311\n",
      "r2_score 38.034082298116815 % random_state 312\n",
      "r2_score 25.032108593314316 % random_state 313\n",
      "r2_score 27.16802440392575 % random_state 314\n",
      "r2_score 39.73804623558343 % random_state 315\n",
      "r2_score 37.10624355297439 % random_state 316\n",
      "r2_score 37.23603302781346 % random_state 317\n",
      "r2_score 33.33101198386036 % random_state 318\n",
      "r2_score 35.479005950867496 % random_state 319\n",
      "r2_score 32.65218971702325 % random_state 320\n",
      "r2_score 36.96784727993702 % random_state 321\n",
      "r2_score 35.12359917414134 % random_state 322\n",
      "r2_score 38.17399491246222 % random_state 323\n",
      "r2_score 28.841059664612768 % random_state 324\n",
      "r2_score 38.976101799106786 % random_state 325\n",
      "r2_score 35.76509312183731 % random_state 326\n",
      "r2_score 37.4110231822254 % random_state 327\n",
      "r2_score 43.56226246374754 % random_state 328\n",
      "r2_score 42.366230804704884 % random_state 329\n",
      "r2_score 36.34892836976864 % random_state 330\n",
      "r2_score 29.638663851665548 % random_state 331\n",
      "r2_score 33.21292659995603 % random_state 332\n",
      "r2_score 41.329027758510904 % random_state 333\n",
      "r2_score 35.911937775086734 % random_state 334\n",
      "r2_score 36.84140434968825 % random_state 335\n",
      "r2_score 25.247071016116962 % random_state 336\n",
      "r2_score 36.763967286716294 % random_state 337\n",
      "r2_score 36.7146027262257 % random_state 338\n",
      "r2_score 34.63351200046881 % random_state 339\n",
      "r2_score 34.81137933110603 % random_state 340\n",
      "r2_score 32.77447223005059 % random_state 341\n",
      "r2_score 28.48548692314241 % random_state 342\n",
      "r2_score 24.732756646235742 % random_state 343\n",
      "r2_score 31.243315758756097 % random_state 344\n",
      "r2_score 31.879957574280237 % random_state 345\n",
      "r2_score 31.359758968241913 % random_state 346\n",
      "r2_score 37.281576063066154 % random_state 347\n",
      "r2_score 35.818125999483165 % random_state 348\n",
      "r2_score 32.02545171638044 % random_state 349\n",
      "r2_score 36.850587869507045 % random_state 350\n",
      "r2_score 31.434607759472655 % random_state 351\n",
      "r2_score 29.132573736600776 % random_state 352\n",
      "r2_score 35.64322811965278 % random_state 353\n",
      "r2_score 42.21862991391671 % random_state 354\n",
      "r2_score 25.118814421710734 % random_state 355\n",
      "r2_score 34.82886007250372 % random_state 356\n",
      "r2_score 36.673143646849724 % random_state 357\n",
      "r2_score 40.84746649251475 % random_state 358\n",
      "r2_score 37.26413702981496 % random_state 359\n",
      "r2_score 42.48099134793827 % random_state 360\n",
      "r2_score 15.339878090866875 % random_state 361\n",
      "r2_score 37.91236832924124 % random_state 362\n"
     ]
    },
    {
     "name": "stdout",
     "output_type": "stream",
     "text": [
      "r2_score 40.98009584508313 % random_state 363\n",
      "r2_score 24.069006401295677 % random_state 364\n",
      "r2_score 35.28589510429112 % random_state 365\n",
      "r2_score 32.49703288263386 % random_state 366\n",
      "r2_score 36.89712022067596 % random_state 367\n",
      "r2_score 35.52230687833079 % random_state 368\n",
      "r2_score 36.352633054590186 % random_state 369\n",
      "r2_score 9.344512430680929 % random_state 370\n",
      "r2_score 31.280046645348094 % random_state 371\n",
      "r2_score 33.471035705900974 % random_state 372\n",
      "r2_score 34.307158783592506 % random_state 373\n",
      "r2_score 38.65581148847544 % random_state 374\n",
      "r2_score 26.467896211153242 % random_state 375\n",
      "r2_score 31.740402607094243 % random_state 376\n",
      "r2_score 38.44919184981551 % random_state 377\n",
      "r2_score 43.503874818480156 % random_state 378\n",
      "r2_score 36.08657948919613 % random_state 379\n",
      "r2_score 35.59187082598132 % random_state 380\n",
      "r2_score 32.94500756845573 % random_state 381\n",
      "r2_score 26.7633877929071 % random_state 382\n",
      "r2_score 38.572354286914724 % random_state 383\n",
      "r2_score 38.843038053359635 % random_state 384\n",
      "r2_score 34.11566658354664 % random_state 385\n",
      "r2_score 38.940435658570095 % random_state 386\n",
      "r2_score 28.890248036166632 % random_state 387\n",
      "r2_score 33.92591243304024 % random_state 388\n",
      "r2_score 21.905339748910478 % random_state 389\n",
      "r2_score 23.925404266485472 % random_state 390\n",
      "r2_score 38.41199368578662 % random_state 391\n",
      "r2_score 44.76796729045655 % random_state 392\n",
      "r2_score 25.203262741467746 % random_state 393\n",
      "r2_score 35.41616504881768 % random_state 394\n",
      "r2_score 37.83962905078289 % random_state 395\n",
      "r2_score 43.28824118368979 % random_state 396\n"
     ]
    }
   ],
   "source": [
    "max_r2_score = 0\n",
    "maxRS = 0\n",
    "\n",
    "for i in range(1,397):\n",
    "    x_train, x_test, y_train, y_test = train_test_split(X_scaled, y, test_size = 0.25, random_state = i)\n",
    "    LR = LinearRegression()\n",
    "    LR.fit(x_train, y_train)\n",
    "    y_pred = LR.predict(x_test)\n",
    "    r2_score = LR.score(x_test,y_test)\n",
    "    print('r2_score', r2_score*100,'%', 'random_state', i)\n",
    "    \n",
    "    if r2_score > max_r2_score:\n",
    "        max_r2_score = r2_score\n",
    "        maxRS = i\n",
    "        print('r2_score', max_r2_score*100,'%', 'random_state', i)"
   ]
  },
  {
   "cell_type": "code",
   "execution_count": 117,
   "id": "ae3d7e3a",
   "metadata": {},
   "outputs": [
    {
     "name": "stdout",
     "output_type": "stream",
     "text": [
      "best accuracy 0.5243051701626646 best random state 235\n"
     ]
    }
   ],
   "source": [
    "print('best accuracy',max_r2_score,'best random state',maxRS)"
   ]
  },
  {
   "cell_type": "code",
   "execution_count": 118,
   "id": "8091eb37",
   "metadata": {},
   "outputs": [],
   "source": [
    "x_train,x_test,y_train,y_test=train_test_split(X_scaled,y,test_size=.25,random_state=235)"
   ]
  },
  {
   "cell_type": "code",
   "execution_count": 119,
   "id": "d8405ddc",
   "metadata": {},
   "outputs": [],
   "source": [
    "#sns.regplot(X='total_bill', y='tip', data = tips)\n",
    "#plt.show()"
   ]
  },
  {
   "cell_type": "code",
   "execution_count": 120,
   "id": "0890c692",
   "metadata": {},
   "outputs": [
    {
     "data": {
      "text/plain": [
       "LinearRegression()"
      ]
     },
     "execution_count": 120,
     "metadata": {},
     "output_type": "execute_result"
    }
   ],
   "source": [
    "lif=LinearRegression()\n",
    "lif.fit(x_train,y_train)"
   ]
  },
  {
   "cell_type": "code",
   "execution_count": 121,
   "id": "d69ec257",
   "metadata": {},
   "outputs": [
    {
     "data": {
      "text/plain": [
       "0.33588265936401807"
      ]
     },
     "execution_count": 121,
     "metadata": {},
     "output_type": "execute_result"
    }
   ],
   "source": [
    "lif.score(x_train,y_train)"
   ]
  },
  {
   "cell_type": "code",
   "execution_count": 122,
   "id": "3d67e512",
   "metadata": {},
   "outputs": [
    {
     "data": {
      "text/plain": [
       "0.5243051701626646"
      ]
     },
     "execution_count": 122,
     "metadata": {},
     "output_type": "execute_result"
    }
   ],
   "source": [
    "lif.score(x_test,y_test)"
   ]
  },
  {
   "cell_type": "code",
   "execution_count": 123,
   "id": "1d4f7ef1",
   "metadata": {},
   "outputs": [
    {
     "data": {
      "text/plain": [
       "array([124482.85842422,  85924.31345761, 145164.05465189, 131835.40419979,\n",
       "        87916.34834979,  80424.38031174, 109133.12019575, 117297.55475654,\n",
       "       119466.35121498, 122257.18923619, 125792.90733529, 118996.01093455,\n",
       "        88894.65356331, 110532.16640933,  85140.86103718, 124094.45115729,\n",
       "       117707.95061865, 110121.77054723, 115305.51986437, 122452.86770888,\n",
       "       122051.99130514, 121632.07598468,  91619.09939657, 137135.97066485,\n",
       "        93570.43794735, 124981.63506945, 151462.17440741,  89703.18531092,\n",
       "       130926.23169246,  73561.09172304, 101967.6811244 , 112230.62258734,\n",
       "        99243.23529114,  86129.51138866,  81684.00426284, 123955.6454142 ,\n",
       "       132422.56162814, 110560.60277413, 135058.62667827,  79120.96928724,\n",
       "        90696.84123304, 137167.47871838, 117824.76776657,  88367.44055328,\n",
       "        97983.61134004, 114560.02326709, 120470.35227506, 132274.23642669,\n",
       "       123829.30880791, 116037.93080544,  93405.93635769,  83610.26348646,\n",
       "        94116.56786381, 122578.58779577,  72412.45366962, 133682.18557924,\n",
       "       133328.66244674,  99038.03736009,  68699.35748488, 141590.38072963,\n",
       "        86785.80152321, 120652.94509156, 129903.31372594, 126474.8933164 ,\n",
       "       148005.31763307, 145280.87179982, 119554.7319981 ,  78211.79677991,\n",
       "        87916.34834979,  77567.76662196,  99565.25037012, 113667.00810469,\n",
       "        77184.98144505,  87916.34834979, 122901.21939414,  75253.7166508 ,\n",
       "       122279.17783136, 104281.73109555, 117414.37190447, 106273.76598773,\n",
       "       126474.8933164 ,  76513.34060191,  93472.53770586,  93071.66130213,\n",
       "       126329.63980368,  73261.68175862, 133972.69260469, 117502.7526876 ,\n",
       "       121076.42660985, 130986.17611079, 124249.22412837, 104281.73109555,\n",
       "       118468.79792452, 141063.16771961, 122980.08071891,  86940.7836545 ,\n",
       "        78432.34541956, 126796.90839538, 121603.63961988])"
      ]
     },
     "execution_count": 123,
     "metadata": {},
     "output_type": "execute_result"
    }
   ],
   "source": [
    "y_pred=lif.predict(x_test)\n",
    "y_pred"
   ]
  },
  {
   "cell_type": "code",
   "execution_count": 124,
   "id": "9a699217",
   "metadata": {},
   "outputs": [
    {
     "data": {
      "image/png": "[encoded data removed]",
      "text/plain": [
       "<Figure size 432x288 with 1 Axes>"
      ]
     },
     "metadata": {
      "needs_background": "light"
     },
     "output_type": "display_data"
    }
   ],
   "source": [
    "plt.scatter(y_test,y_pred)\n",
    "plt.xlabel('Actual chance of salary')\n",
    "plt.ylabel('prediction chance of salary')\n",
    "plt.title('Acutal  vs predicted ')\n",
    "plt.show()"
   ]
  },
  {
   "cell_type": "code",
   "execution_count": 125,
   "id": "e23ce39e",
   "metadata": {},
   "outputs": [],
   "source": [
    "from sklearn.metrics import mean_squared_error,mean_absolute_error\n",
    "\n"
   ]
  },
  {
   "cell_type": "code",
   "execution_count": 126,
   "id": "16f1c776",
   "metadata": {},
   "outputs": [],
   "source": [
    "y_pred=lif.predict(x_test)"
   ]
  },
  {
   "cell_type": "code",
   "execution_count": 127,
   "id": "60a98822",
   "metadata": {},
   "outputs": [
    {
     "data": {
      "text/plain": [
       "15157.550750343227"
      ]
     },
     "execution_count": 127,
     "metadata": {},
     "output_type": "execute_result"
    }
   ],
   "source": [
    "mean_absolute_error(y_test,y_pred)"
   ]
  },
  {
   "cell_type": "code",
   "execution_count": 128,
   "id": "17e9abe6",
   "metadata": {},
   "outputs": [
    {
     "data": {
      "text/plain": [
       "307408254.7361555"
      ]
     },
     "execution_count": 128,
     "metadata": {},
     "output_type": "execute_result"
    }
   ],
   "source": [
    "mean_squared_error(y_test,y_pred)"
   ]
  },
  {
   "cell_type": "code",
   "execution_count": 129,
   "id": "fc123772",
   "metadata": {},
   "outputs": [
    {
     "data": {
      "text/plain": [
       "17533.06176160215"
      ]
     },
     "execution_count": 129,
     "metadata": {},
     "output_type": "execute_result"
    }
   ],
   "source": [
    "np.sqrt(mean_squared_error(y_test,y_pred))"
   ]
  },
  {
   "cell_type": "markdown",
   "id": "77fea282",
   "metadata": {},
   "source": [
    "# hyper tunning\n"
   ]
  },
  {
   "cell_type": "code",
   "execution_count": 130,
   "id": "6585c9b1",
   "metadata": {},
   "outputs": [],
   "source": [
    "from sklearn.model_selection import GridSearchCV"
   ]
  },
  {
   "cell_type": "code",
   "execution_count": 131,
   "id": "d291d155",
   "metadata": {},
   "outputs": [],
   "source": [
    "param_grid = {'copy_X': [True,False],\n",
    "              'fit_intercept': [True,False],\n",
    "              'normalize': [True,False]}"
   ]
  },
  {
   "cell_type": "code",
   "execution_count": 132,
   "id": "986965bf",
   "metadata": {},
   "outputs": [
    {
     "data": {
      "text/plain": [
       "{'copy_X': True, 'fit_intercept': True, 'normalize': False}"
      ]
     },
     "execution_count": 132,
     "metadata": {},
     "output_type": "execute_result"
    }
   ],
   "source": [
    "GCV=GridSearchCV(LinearRegression(),param_grid=param_grid,cv=5)\n",
    "GCV.fit(x_train,y_train)\n",
    "GCV.best_params_"
   ]
  },
  {
   "cell_type": "code",
   "execution_count": 133,
   "id": "3f2c3d47",
   "metadata": {},
   "outputs": [
    {
     "data": {
      "text/plain": [
       "dict_keys(['copy_X', 'fit_intercept', 'n_jobs', 'normalize', 'positive'])"
      ]
     },
     "execution_count": 133,
     "metadata": {},
     "output_type": "execute_result"
    }
   ],
   "source": [
    "GCV.estimator.get_params().keys()"
   ]
  },
  {
   "cell_type": "code",
   "execution_count": 134,
   "id": "e5186158",
   "metadata": {},
   "outputs": [],
   "source": [
    "LNN=LinearRegression(copy_X=True,fit_intercept=True,normalize=False)"
   ]
  },
  {
   "cell_type": "code",
   "execution_count": 135,
   "id": "0edceb1a",
   "metadata": {},
   "outputs": [
    {
     "data": {
      "text/plain": [
       "0.33588265936401807"
      ]
     },
     "execution_count": 135,
     "metadata": {},
     "output_type": "execute_result"
    }
   ],
   "source": [
    "LNN.fit(x_train,y_train)\n",
    "LNN.score(x_train,y_train)"
   ]
  },
  {
   "cell_type": "code",
   "execution_count": 136,
   "id": "a41ba30a",
   "metadata": {},
   "outputs": [
    {
     "data": {
      "text/plain": [
       "0.5243051701626646"
      ]
     },
     "execution_count": 136,
     "metadata": {},
     "output_type": "execute_result"
    }
   ],
   "source": [
    "LNN.score(x_test,y_test)"
   ]
  },
  {
   "cell_type": "code",
   "execution_count": 138,
   "id": "240ed26d",
   "metadata": {},
   "outputs": [],
   "source": [
    "y_pred=LNN.predict(x_test)"
   ]
  },
  {
   "cell_type": "code",
   "execution_count": 142,
   "id": "183e48f4",
   "metadata": {},
   "outputs": [
    {
     "data": {
      "text/plain": [
       "<AxesSubplot:xlabel='salary'>"
      ]
     },
     "execution_count": 142,
     "metadata": {},
     "output_type": "execute_result"
    },
    {
     "data": {
      "image/png": "[encoded data removed]",
      "text/plain": [
       "<Figure size 432x288 with 1 Axes>"
      ]
     },
     "metadata": {
      "needs_background": "light"
     },
     "output_type": "display_data"
    }
   ],
   "source": [
    "sns.regplot(y_test,y_pred)"
   ]
  },
  {
   "cell_type": "code",
   "execution_count": 145,
   "id": "ac27fb2c",
   "metadata": {},
   "outputs": [
    {
     "ename": "SyntaxError",
     "evalue": "invalid syntax (Temp/ipykernel_11444/3911956518.py, line 1)",
     "output_type": "error",
     "traceback": [
      "\u001b[1;36m  File \u001b[1;32m\"C:\\Users\\Sandeep\\AppData\\Local\\Temp/ipykernel_11444/3911956518.py\"\u001b[1;36m, line \u001b[1;32m1\u001b[0m\n\u001b[1;33m    project_2-predict salary='finalized_model pickle'\u001b[0m\n\u001b[1;37m                      ^\u001b[0m\n\u001b[1;31mSyntaxError\u001b[0m\u001b[1;31m:\u001b[0m invalid syntax\n"
     ]
    }
   ],
   "source": [
    "project_2-predict salary='finalized_model.pickle'\n",
    "pickle.dump(LNN,open(project_2-predict salary,'wb'))\n",
    "loaded_model=pickel.load(open(project_2-predict salary,'rb'))\n"
   ]
  },
  {
   "cell_type": "code",
   "execution_count": null,
   "id": "13a77a76",
   "metadata": {},
   "outputs": [],
   "source": []
  }
 ],
 "metadata": {
  "kernelspec": {
   "display_name": "Python 3 (ipykernel)",
   "language": "python",
   "name": "python3"
  },
  "language_info": {
   "codemirror_mode": {
    "name": "ipython",
    "version": 3
   },
   "file_extension": ".py",
   "mimetype": "text/x-python",
   "name": "python",
   "nbconvert_exporter": "python",
   "pygments_lexer": "ipython3",
   "version": "3.9.7"
  }
 },
 "nbformat": 4,
 "nbformat_minor": 5
}
