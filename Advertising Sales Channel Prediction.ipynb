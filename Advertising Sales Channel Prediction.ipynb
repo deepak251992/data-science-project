{
 "cells": [
  {
   "cell_type": "code",
   "execution_count": 294,
   "id": "7627769d",
   "metadata": {},
   "outputs": [],
   "source": [
    "import pandas as pd\n",
    "import numpy as np\n",
    "from sklearn.tree import DecisionTreeClassifier\n",
    "from sklearn.model_selection import train_test_split,GridSearchCV\n",
    "from sklearn.preprocessing import StandardScaler\n",
    "from sklearn.metrics import accuracy_score,confusion_matrix,roc_auc_score,roc_auc_score\n",
    "import matplotlib.pyplot as plt\n",
    "import seaborn as sns\n",
    "from sklearn.preprocessing import OrdinalEncoder\n",
    "from sklearn.linear_model import LinearRegression\n",
    "import warnings\n",
    "warnings.filterwarnings('ignore')\n",
    "from sklearn.metrics import confusion_matrix,classification_report\n",
    "import pickle"
   ]
  },
  {
   "cell_type": "code",
   "execution_count": 304,
   "id": "ec908102",
   "metadata": {},
   "outputs": [
    {
     "data": {
      "text/html": [
       "<div>\n",
       "<style scoped>\n",
       "    .dataframe tbody tr th:only-of-type {\n",
       "        vertical-align: middle;\n",
       "    }\n",
       "\n",
       "    .dataframe tbody tr th {\n",
       "        vertical-align: top;\n",
       "    }\n",
       "\n",
       "    .dataframe thead th {\n",
       "        text-align: right;\n",
       "    }\n",
       "</style>\n",
       "<table border=\"1\" class=\"dataframe\">\n",
       "  <thead>\n",
       "    <tr style=\"text-align: right;\">\n",
       "      <th></th>\n",
       "      <th>Unnamed: 0</th>\n",
       "      <th>TV</th>\n",
       "      <th>radio</th>\n",
       "      <th>newspaper</th>\n",
       "      <th>sales</th>\n",
       "    </tr>\n",
       "  </thead>\n",
       "  <tbody>\n",
       "    <tr>\n",
       "      <th>0</th>\n",
       "      <td>1</td>\n",
       "      <td>230.1</td>\n",
       "      <td>37.8</td>\n",
       "      <td>69.2</td>\n",
       "      <td>22.1</td>\n",
       "    </tr>\n",
       "    <tr>\n",
       "      <th>1</th>\n",
       "      <td>2</td>\n",
       "      <td>44.5</td>\n",
       "      <td>39.3</td>\n",
       "      <td>45.1</td>\n",
       "      <td>10.4</td>\n",
       "    </tr>\n",
       "    <tr>\n",
       "      <th>2</th>\n",
       "      <td>3</td>\n",
       "      <td>17.2</td>\n",
       "      <td>45.9</td>\n",
       "      <td>69.3</td>\n",
       "      <td>9.3</td>\n",
       "    </tr>\n",
       "    <tr>\n",
       "      <th>3</th>\n",
       "      <td>4</td>\n",
       "      <td>151.5</td>\n",
       "      <td>41.3</td>\n",
       "      <td>58.5</td>\n",
       "      <td>18.5</td>\n",
       "    </tr>\n",
       "    <tr>\n",
       "      <th>4</th>\n",
       "      <td>5</td>\n",
       "      <td>180.8</td>\n",
       "      <td>10.8</td>\n",
       "      <td>58.4</td>\n",
       "      <td>12.9</td>\n",
       "    </tr>\n",
       "  </tbody>\n",
       "</table>\n",
       "</div>"
      ],
      "text/plain": [
       "   Unnamed: 0     TV  radio  newspaper  sales\n",
       "0           1  230.1   37.8       69.2   22.1\n",
       "1           2   44.5   39.3       45.1   10.4\n",
       "2           3   17.2   45.9       69.3    9.3\n",
       "3           4  151.5   41.3       58.5   18.5\n",
       "4           5  180.8   10.8       58.4   12.9"
      ]
     },
     "execution_count": 304,
     "metadata": {},
     "output_type": "execute_result"
    }
   ],
   "source": [
    "df=pd.read_csv(\"https://raw.githubusercontent.com/dsrscientist/DSData/master/Advertising.csv\")\n",
    "df.head()"
   ]
  },
  {
   "cell_type": "code",
   "execution_count": 305,
   "id": "f8461795",
   "metadata": {},
   "outputs": [
    {
     "data": {
      "text/plain": [
       "(200, 5)"
      ]
     },
     "execution_count": 305,
     "metadata": {},
     "output_type": "execute_result"
    }
   ],
   "source": [
    "df.shape"
   ]
  },
  {
   "cell_type": "code",
   "execution_count": 297,
   "id": "f2893cba",
   "metadata": {},
   "outputs": [
    {
     "name": "stdout",
     "output_type": "stream",
     "text": [
      "<class 'pandas.core.frame.DataFrame'>\n",
      "RangeIndex: 200 entries, 0 to 199\n",
      "Data columns (total 5 columns):\n",
      " #   Column      Non-Null Count  Dtype  \n",
      "---  ------      --------------  -----  \n",
      " 0   Unnamed: 0  200 non-null    int64  \n",
      " 1   TV          200 non-null    float64\n",
      " 2   radio       200 non-null    float64\n",
      " 3   newspaper   200 non-null    float64\n",
      " 4   sales       200 non-null    float64\n",
      "dtypes: float64(4), int64(1)\n",
      "memory usage: 7.9 KB\n"
     ]
    }
   ],
   "source": [
    "df.info()"
   ]
  },
  {
   "cell_type": "code",
   "execution_count": 298,
   "id": "9669ee60",
   "metadata": {},
   "outputs": [
    {
     "data": {
      "text/html": [
       "<div>\n",
       "<style scoped>\n",
       "    .dataframe tbody tr th:only-of-type {\n",
       "        vertical-align: middle;\n",
       "    }\n",
       "\n",
       "    .dataframe tbody tr th {\n",
       "        vertical-align: top;\n",
       "    }\n",
       "\n",
       "    .dataframe thead th {\n",
       "        text-align: right;\n",
       "    }\n",
       "</style>\n",
       "<table border=\"1\" class=\"dataframe\">\n",
       "  <thead>\n",
       "    <tr style=\"text-align: right;\">\n",
       "      <th></th>\n",
       "      <th>Unnamed: 0</th>\n",
       "      <th>TV</th>\n",
       "      <th>radio</th>\n",
       "      <th>newspaper</th>\n",
       "      <th>sales</th>\n",
       "    </tr>\n",
       "  </thead>\n",
       "  <tbody>\n",
       "    <tr>\n",
       "      <th>count</th>\n",
       "      <td>200.000000</td>\n",
       "      <td>200.000000</td>\n",
       "      <td>200.000000</td>\n",
       "      <td>200.000000</td>\n",
       "      <td>200.000000</td>\n",
       "    </tr>\n",
       "    <tr>\n",
       "      <th>mean</th>\n",
       "      <td>100.500000</td>\n",
       "      <td>147.042500</td>\n",
       "      <td>23.264000</td>\n",
       "      <td>30.554000</td>\n",
       "      <td>14.022500</td>\n",
       "    </tr>\n",
       "    <tr>\n",
       "      <th>std</th>\n",
       "      <td>57.879185</td>\n",
       "      <td>85.854236</td>\n",
       "      <td>14.846809</td>\n",
       "      <td>21.778621</td>\n",
       "      <td>5.217457</td>\n",
       "    </tr>\n",
       "    <tr>\n",
       "      <th>min</th>\n",
       "      <td>1.000000</td>\n",
       "      <td>0.700000</td>\n",
       "      <td>0.000000</td>\n",
       "      <td>0.300000</td>\n",
       "      <td>1.600000</td>\n",
       "    </tr>\n",
       "    <tr>\n",
       "      <th>25%</th>\n",
       "      <td>50.750000</td>\n",
       "      <td>74.375000</td>\n",
       "      <td>9.975000</td>\n",
       "      <td>12.750000</td>\n",
       "      <td>10.375000</td>\n",
       "    </tr>\n",
       "    <tr>\n",
       "      <th>50%</th>\n",
       "      <td>100.500000</td>\n",
       "      <td>149.750000</td>\n",
       "      <td>22.900000</td>\n",
       "      <td>25.750000</td>\n",
       "      <td>12.900000</td>\n",
       "    </tr>\n",
       "    <tr>\n",
       "      <th>75%</th>\n",
       "      <td>150.250000</td>\n",
       "      <td>218.825000</td>\n",
       "      <td>36.525000</td>\n",
       "      <td>45.100000</td>\n",
       "      <td>17.400000</td>\n",
       "    </tr>\n",
       "    <tr>\n",
       "      <th>max</th>\n",
       "      <td>200.000000</td>\n",
       "      <td>296.400000</td>\n",
       "      <td>49.600000</td>\n",
       "      <td>114.000000</td>\n",
       "      <td>27.000000</td>\n",
       "    </tr>\n",
       "  </tbody>\n",
       "</table>\n",
       "</div>"
      ],
      "text/plain": [
       "       Unnamed: 0          TV       radio   newspaper       sales\n",
       "count  200.000000  200.000000  200.000000  200.000000  200.000000\n",
       "mean   100.500000  147.042500   23.264000   30.554000   14.022500\n",
       "std     57.879185   85.854236   14.846809   21.778621    5.217457\n",
       "min      1.000000    0.700000    0.000000    0.300000    1.600000\n",
       "25%     50.750000   74.375000    9.975000   12.750000   10.375000\n",
       "50%    100.500000  149.750000   22.900000   25.750000   12.900000\n",
       "75%    150.250000  218.825000   36.525000   45.100000   17.400000\n",
       "max    200.000000  296.400000   49.600000  114.000000   27.000000"
      ]
     },
     "execution_count": 298,
     "metadata": {},
     "output_type": "execute_result"
    }
   ],
   "source": [
    "df.describe()"
   ]
  },
  {
   "cell_type": "code",
   "execution_count": 299,
   "id": "b49b691a",
   "metadata": {},
   "outputs": [
    {
     "data": {
      "text/plain": [
       "Unnamed: 0    0\n",
       "TV            0\n",
       "radio         0\n",
       "newspaper     0\n",
       "sales         0\n",
       "dtype: int64"
      ]
     },
     "execution_count": 299,
     "metadata": {},
     "output_type": "execute_result"
    }
   ],
   "source": [
    "df.isnull().sum()"
   ]
  },
  {
   "cell_type": "code",
   "execution_count": 300,
   "id": "ce213912",
   "metadata": {},
   "outputs": [
    {
     "data": {
      "image/png": "[encoded data removed]",
      "text/plain": [
       "<Figure size 432x288 with 2 Axes>"
      ]
     },
     "metadata": {
      "needs_background": "light"
     },
     "output_type": "display_data"
    }
   ],
   "source": [
    "sns.heatmap(df.isnull())\n",
    "plt.title('null values')\n",
    "plt.show()"
   ]
  },
  {
   "cell_type": "code",
   "execution_count": 301,
   "id": "289633b8",
   "metadata": {},
   "outputs": [
    {
     "data": {
      "text/html": [
       "<div>\n",
       "<style scoped>\n",
       "    .dataframe tbody tr th:only-of-type {\n",
       "        vertical-align: middle;\n",
       "    }\n",
       "\n",
       "    .dataframe tbody tr th {\n",
       "        vertical-align: top;\n",
       "    }\n",
       "\n",
       "    .dataframe thead th {\n",
       "        text-align: right;\n",
       "    }\n",
       "</style>\n",
       "<table border=\"1\" class=\"dataframe\">\n",
       "  <thead>\n",
       "    <tr style=\"text-align: right;\">\n",
       "      <th></th>\n",
       "      <th>TV</th>\n",
       "      <th>radio</th>\n",
       "      <th>newspaper</th>\n",
       "      <th>sales</th>\n",
       "    </tr>\n",
       "  </thead>\n",
       "  <tbody>\n",
       "    <tr>\n",
       "      <th>0</th>\n",
       "      <td>230.1</td>\n",
       "      <td>37.8</td>\n",
       "      <td>69.2</td>\n",
       "      <td>22.1</td>\n",
       "    </tr>\n",
       "    <tr>\n",
       "      <th>1</th>\n",
       "      <td>44.5</td>\n",
       "      <td>39.3</td>\n",
       "      <td>45.1</td>\n",
       "      <td>10.4</td>\n",
       "    </tr>\n",
       "    <tr>\n",
       "      <th>2</th>\n",
       "      <td>17.2</td>\n",
       "      <td>45.9</td>\n",
       "      <td>69.3</td>\n",
       "      <td>9.3</td>\n",
       "    </tr>\n",
       "    <tr>\n",
       "      <th>3</th>\n",
       "      <td>151.5</td>\n",
       "      <td>41.3</td>\n",
       "      <td>58.5</td>\n",
       "      <td>18.5</td>\n",
       "    </tr>\n",
       "    <tr>\n",
       "      <th>4</th>\n",
       "      <td>180.8</td>\n",
       "      <td>10.8</td>\n",
       "      <td>58.4</td>\n",
       "      <td>12.9</td>\n",
       "    </tr>\n",
       "    <tr>\n",
       "      <th>...</th>\n",
       "      <td>...</td>\n",
       "      <td>...</td>\n",
       "      <td>...</td>\n",
       "      <td>...</td>\n",
       "    </tr>\n",
       "    <tr>\n",
       "      <th>195</th>\n",
       "      <td>38.2</td>\n",
       "      <td>3.7</td>\n",
       "      <td>13.8</td>\n",
       "      <td>7.6</td>\n",
       "    </tr>\n",
       "    <tr>\n",
       "      <th>196</th>\n",
       "      <td>94.2</td>\n",
       "      <td>4.9</td>\n",
       "      <td>8.1</td>\n",
       "      <td>9.7</td>\n",
       "    </tr>\n",
       "    <tr>\n",
       "      <th>197</th>\n",
       "      <td>177.0</td>\n",
       "      <td>9.3</td>\n",
       "      <td>6.4</td>\n",
       "      <td>12.8</td>\n",
       "    </tr>\n",
       "    <tr>\n",
       "      <th>198</th>\n",
       "      <td>283.6</td>\n",
       "      <td>42.0</td>\n",
       "      <td>66.2</td>\n",
       "      <td>25.5</td>\n",
       "    </tr>\n",
       "    <tr>\n",
       "      <th>199</th>\n",
       "      <td>232.1</td>\n",
       "      <td>8.6</td>\n",
       "      <td>8.7</td>\n",
       "      <td>13.4</td>\n",
       "    </tr>\n",
       "  </tbody>\n",
       "</table>\n",
       "<p>200 rows × 4 columns</p>\n",
       "</div>"
      ],
      "text/plain": [
       "        TV  radio  newspaper  sales\n",
       "0    230.1   37.8       69.2   22.1\n",
       "1     44.5   39.3       45.1   10.4\n",
       "2     17.2   45.9       69.3    9.3\n",
       "3    151.5   41.3       58.5   18.5\n",
       "4    180.8   10.8       58.4   12.9\n",
       "..     ...    ...        ...    ...\n",
       "195   38.2    3.7       13.8    7.6\n",
       "196   94.2    4.9        8.1    9.7\n",
       "197  177.0    9.3        6.4   12.8\n",
       "198  283.6   42.0       66.2   25.5\n",
       "199  232.1    8.6        8.7   13.4\n",
       "\n",
       "[200 rows x 4 columns]"
      ]
     },
     "execution_count": 301,
     "metadata": {},
     "output_type": "execute_result"
    }
   ],
   "source": [
    "df=df.drop(['Unnamed: 0'],axis=1)\n",
    "df"
   ]
  },
  {
   "cell_type": "code",
   "execution_count": 302,
   "id": "19cabc5f",
   "metadata": {},
   "outputs": [
    {
     "data": {
      "text/plain": [
       "<AxesSubplot:>"
      ]
     },
     "execution_count": 302,
     "metadata": {},
     "output_type": "execute_result"
    },
    {
     "data": {
      "image/png": "[encoded data removed]",
      "text/plain": [
       "<Figure size 720x720 with 2 Axes>"
      ]
     },
     "metadata": {
      "needs_background": "light"
     },
     "output_type": "display_data"
    }
   ],
   "source": [
    "df=df.corr().abs()\n",
    "plt.figure(figsize=(10,10))\n",
    "sns.heatmap(df,annot=True,annot_kws={'size':20})"
   ]
  },
  {
   "cell_type": "code",
   "execution_count": 287,
   "id": "5c930fe9",
   "metadata": {},
   "outputs": [
    {
     "data": {
      "image/png": "[encoded data removed]",
      "text/plain": [
       "<Figure size 720x360 with 4 Axes>"
      ]
     },
     "metadata": {},
     "output_type": "display_data"
    }
   ],
   "source": [
    "\n",
    "plt.figure(figsize=(10,5),facecolor='yellow')\n",
    "plotnumber=1\n",
    "for column in df:\n",
    "    if plotnumber<=6:\n",
    "        ax=plt.subplot(2,3,plotnumber)\n",
    "        sns.distplot(df[column])\n",
    "        plt.xlabel(column,fontsize=20)\n",
    "    plotnumber+=1\n",
    "plt.tight_layout()\n",
    "\n"
   ]
  },
  {
   "cell_type": "code",
   "execution_count": 288,
   "id": "e3721ecf",
   "metadata": {},
   "outputs": [
    {
     "data": {
      "image/png": "[encoded data removed]",
      "text/plain": [
       "<Figure size 720x360 with 4 Axes>"
      ]
     },
     "metadata": {},
     "output_type": "display_data"
    }
   ],
   "source": [
    "plt.figure(figsize=(10,5),facecolor='yellow')\n",
    "plotnumber=1\n",
    "for column in df:\n",
    "    if plotnumber<=6:\n",
    "        ax=plt.subplot(2,3,plotnumber)\n",
    "        sns.boxplot(data=df[column])\n",
    "        plt.xlabel(column,fontsize=20)\n",
    "    plotnumber+=1\n",
    "plt.tight_layout()\n"
   ]
  },
  {
   "cell_type": "code",
   "execution_count": 306,
   "id": "4fdfc327",
   "metadata": {},
   "outputs": [],
   "source": [
    "X=df.drop(['sales'],axis=1)\n",
    "y=df['sales']\n"
   ]
  },
  {
   "cell_type": "code",
   "execution_count": 307,
   "id": "ba9b2b7e",
   "metadata": {},
   "outputs": [
    {
     "data": {
      "text/plain": [
       "TV           -0.069853\n",
       "Unnamed: 0    0.000000\n",
       "radio         0.094175\n",
       "newspaper     0.894720\n",
       "dtype: float64"
      ]
     },
     "execution_count": 307,
     "metadata": {},
     "output_type": "execute_result"
    }
   ],
   "source": [
    "X.skew().sort_values(ascending=True)"
   ]
  },
  {
   "cell_type": "code",
   "execution_count": 308,
   "id": "6864a92e",
   "metadata": {},
   "outputs": [],
   "source": [
    "from sklearn.preprocessing import power_transform\n",
    "X_new = power_transform(X)"
   ]
  },
  {
   "cell_type": "code",
   "execution_count": 309,
   "id": "d586c357",
   "metadata": {},
   "outputs": [
    {
     "data": {
      "text/plain": [
       "newspaper    -0.077942\n",
       "radio        -0.242968\n",
       "Unnamed: 0   -0.268270\n",
       "TV           -0.315199\n",
       "dtype: float64"
      ]
     },
     "execution_count": 309,
     "metadata": {},
     "output_type": "execute_result"
    }
   ],
   "source": [
    "pd.DataFrame(X_new, columns = X.columns).skew().sort_values(ascending = False)"
   ]
  },
  {
   "cell_type": "code",
   "execution_count": 310,
   "id": "02ede09e",
   "metadata": {},
   "outputs": [
    {
     "data": {
      "text/plain": [
       "(200, 4)"
      ]
     },
     "execution_count": 310,
     "metadata": {},
     "output_type": "execute_result"
    }
   ],
   "source": [
    "X = pd.DataFrame(X_new, columns = X.columns)\n",
    "X.shape"
   ]
  },
  {
   "cell_type": "code",
   "execution_count": 311,
   "id": "aecb776e",
   "metadata": {},
   "outputs": [],
   "source": [
    "scaler=StandardScaler()\n",
    "X_scaled=scaler.fit_transform(X)"
   ]
  },
  {
   "cell_type": "code",
   "execution_count": 312,
   "id": "00db8fc1",
   "metadata": {},
   "outputs": [
    {
     "name": "stdout",
     "output_type": "stream",
     "text": [
      "r2_score 91.27479547706962 % random_state 1\n",
      "r2_score 91.27479547706962 % random_state 1\n",
      "r2_score 82.30256848365633 % random_state 2\n",
      "r2_score 89.698736850203 % random_state 3\n",
      "r2_score 90.88602957746895 % random_state 4\n",
      "r2_score 89.78410080266046 % random_state 5\n",
      "r2_score 92.0046774445598 % random_state 6\n",
      "r2_score 92.0046774445598 % random_state 6\n",
      "r2_score 91.33086342523295 % random_state 7\n",
      "r2_score 88.21389542859713 % random_state 8\n",
      "r2_score 91.45206040418833 % random_state 9\n",
      "r2_score 86.58685415529595 % random_state 10\n",
      "r2_score 89.22188075602169 % random_state 11\n",
      "r2_score 91.7987699984797 % random_state 12\n",
      "r2_score 93.77908623980129 % random_state 13\n",
      "r2_score 93.77908623980129 % random_state 13\n",
      "r2_score 89.6127902960995 % random_state 14\n",
      "r2_score 89.62618360134638 % random_state 15\n",
      "r2_score 92.47240840113935 % random_state 16\n",
      "r2_score 87.92351723699576 % random_state 17\n",
      "r2_score 89.15187357277415 % random_state 18\n",
      "r2_score 89.66155918542785 % random_state 19\n",
      "r2_score 88.89204098402898 % random_state 20\n",
      "r2_score 90.04629047590554 % random_state 21\n",
      "r2_score 92.41099642152713 % random_state 22\n",
      "r2_score 91.74884084121528 % random_state 23\n",
      "r2_score 90.12501183135954 % random_state 24\n",
      "r2_score 89.18885307991856 % random_state 25\n",
      "r2_score 87.76946770004473 % random_state 26\n",
      "r2_score 90.23284039647714 % random_state 27\n",
      "r2_score 91.0100258233285 % random_state 28\n",
      "r2_score 90.8721249915273 % random_state 29\n",
      "r2_score 92.50331650741813 % random_state 30\n",
      "r2_score 92.07906809460648 % random_state 31\n",
      "r2_score 86.12594761233574 % random_state 32\n",
      "r2_score 90.47353252129611 % random_state 33\n",
      "r2_score 89.87819906437629 % random_state 34\n",
      "r2_score 82.36434728176854 % random_state 35\n",
      "r2_score 91.80513451947755 % random_state 36\n",
      "r2_score 88.35816356994553 % random_state 37\n",
      "r2_score 89.60585702891628 % random_state 38\n",
      "r2_score 89.2659635870471 % random_state 39\n",
      "r2_score 86.41819373848611 % random_state 40\n",
      "r2_score 90.38925750154206 % random_state 41\n",
      "r2_score 90.9102161359822 % random_state 42\n",
      "r2_score 93.2647981912489 % random_state 43\n",
      "r2_score 86.56993765605212 % random_state 44\n",
      "r2_score 90.89257928768987 % random_state 45\n",
      "r2_score 87.49761825779481 % random_state 46\n",
      "r2_score 86.8648030975409 % random_state 47\n",
      "r2_score 93.2410167962814 % random_state 48\n",
      "r2_score 81.86398223752325 % random_state 49\n",
      "r2_score 88.65637688683378 % random_state 50\n",
      "r2_score 89.31804710123025 % random_state 51\n",
      "r2_score 88.36950896629642 % random_state 52\n",
      "r2_score 93.39960740778815 % random_state 53\n",
      "r2_score 92.76245096221459 % random_state 54\n",
      "r2_score 91.5889945389456 % random_state 55\n",
      "r2_score 90.35461511257748 % random_state 56\n",
      "r2_score 93.44932106279603 % random_state 57\n",
      "r2_score 85.9380539010593 % random_state 58\n",
      "r2_score 91.70889203650661 % random_state 59\n",
      "r2_score 92.38216867946349 % random_state 60\n",
      "r2_score 90.56301672651192 % random_state 61\n",
      "r2_score 86.96143890177356 % random_state 62\n",
      "r2_score 90.32096427962809 % random_state 63\n",
      "r2_score 88.24159911057257 % random_state 64\n",
      "r2_score 91.98696633388663 % random_state 65\n",
      "r2_score 88.51316950103356 % random_state 66\n",
      "r2_score 89.3747975557821 % random_state 67\n",
      "r2_score 87.24753195649063 % random_state 68\n",
      "r2_score 91.78366985370894 % random_state 69\n",
      "r2_score 91.0618148648675 % random_state 70\n",
      "r2_score 86.3486549082309 % random_state 71\n",
      "r2_score 92.00680093477801 % random_state 72\n",
      "r2_score 86.80139430522573 % random_state 73\n",
      "r2_score 90.01180743201276 % random_state 74\n",
      "r2_score 92.62175990861003 % random_state 75\n",
      "r2_score 86.7968599338202 % random_state 76\n",
      "r2_score 92.33282094017157 % random_state 77\n",
      "r2_score 92.18467898945653 % random_state 78\n",
      "r2_score 90.66974192671546 % random_state 79\n",
      "r2_score 88.67075487126064 % random_state 80\n",
      "r2_score 90.79464614869748 % random_state 81\n",
      "r2_score 86.14329336137003 % random_state 82\n",
      "r2_score 92.93645824082792 % random_state 83\n",
      "r2_score 92.35358373655205 % random_state 84\n",
      "r2_score 88.65034912927399 % random_state 85\n",
      "r2_score 88.73147084359884 % random_state 86\n",
      "r2_score 87.99560252862554 % random_state 87\n",
      "r2_score 88.09204092412416 % random_state 88\n",
      "r2_score 87.40779386797193 % random_state 89\n",
      "r2_score 85.7383075060278 % random_state 90\n",
      "r2_score 91.43070033985596 % random_state 91\n",
      "r2_score 90.85273818636645 % random_state 92\n",
      "r2_score 90.11077057137659 % random_state 93\n",
      "r2_score 89.6443310655597 % random_state 94\n",
      "r2_score 89.95023394802226 % random_state 95\n",
      "r2_score 88.05697843597713 % random_state 96\n",
      "r2_score 90.38899888420505 % random_state 97\n",
      "r2_score 92.6480594702115 % random_state 98\n",
      "r2_score 91.01442710071478 % random_state 99\n",
      "r2_score 91.6244393092387 % random_state 100\n",
      "r2_score 93.42382274237025 % random_state 101\n",
      "r2_score 91.26098665729698 % random_state 102\n",
      "r2_score 92.40039969939417 % random_state 103\n",
      "r2_score 87.38868906534621 % random_state 104\n",
      "r2_score 90.50290901055033 % random_state 105\n",
      "r2_score 88.42904841255371 % random_state 106\n",
      "r2_score 88.71409428017525 % random_state 107\n",
      "r2_score 90.87143865668732 % random_state 108\n",
      "r2_score 87.67979875106465 % random_state 109\n",
      "r2_score 91.35169300624005 % random_state 110\n",
      "r2_score 88.26684038510102 % random_state 111\n",
      "r2_score 90.97119194593692 % random_state 112\n",
      "r2_score 90.95170061077039 % random_state 113\n",
      "r2_score 90.21179070021422 % random_state 114\n",
      "r2_score 91.88749971357977 % random_state 115\n",
      "r2_score 89.25080594994877 % random_state 116\n",
      "r2_score 91.0846834212325 % random_state 117\n",
      "r2_score 91.22956173810003 % random_state 118\n",
      "r2_score 85.11426974983078 % random_state 119\n",
      "r2_score 84.87119538863948 % random_state 120\n",
      "r2_score 89.97630875069275 % random_state 121\n",
      "r2_score 86.80664670732504 % random_state 122\n",
      "r2_score 91.5476659488984 % random_state 123\n",
      "r2_score 89.78114313193142 % random_state 124\n",
      "r2_score 87.51990242124177 % random_state 125\n",
      "r2_score 87.79545808931807 % random_state 126\n",
      "r2_score 88.68294556088307 % random_state 127\n",
      "r2_score 90.89075185545707 % random_state 128\n",
      "r2_score 89.09266075256012 % random_state 129\n",
      "r2_score 89.75399285666512 % random_state 130\n",
      "r2_score 90.79792812000443 % random_state 131\n",
      "r2_score 89.81335049340086 % random_state 132\n",
      "r2_score 88.73003525194034 % random_state 133\n",
      "r2_score 88.36132497750468 % random_state 134\n",
      "r2_score 87.34397402850465 % random_state 135\n",
      "r2_score 88.98874237508404 % random_state 136\n",
      "r2_score 92.0086660674443 % random_state 137\n",
      "r2_score 90.23441005234288 % random_state 138\n",
      "r2_score 92.66494186455606 % random_state 139\n",
      "r2_score 86.60942324397469 % random_state 140\n",
      "r2_score 91.1489190055228 % random_state 141\n",
      "r2_score 86.581154394003 % random_state 142\n",
      "r2_score 88.1416962770501 % random_state 143\n",
      "r2_score 89.89775460912833 % random_state 144\n",
      "r2_score 86.98913133480879 % random_state 145\n",
      "r2_score 90.59048410104884 % random_state 146\n",
      "r2_score 87.14974370433539 % random_state 147\n",
      "r2_score 91.73467867554173 % random_state 148\n",
      "r2_score 87.18880021016362 % random_state 149\n",
      "r2_score 92.27256970621842 % random_state 150\n",
      "r2_score 92.37817585839836 % random_state 151\n",
      "r2_score 90.06961288740062 % random_state 152\n",
      "r2_score 89.02490139034872 % random_state 153\n",
      "r2_score 92.46207628586932 % random_state 154\n",
      "r2_score 85.39348131991798 % random_state 155\n",
      "r2_score 92.33810865591093 % random_state 156\n",
      "r2_score 85.02446343277414 % random_state 157\n",
      "r2_score 92.15314154578125 % random_state 158\n",
      "r2_score 91.59169237470483 % random_state 159\n",
      "r2_score 89.4418386858504 % random_state 160\n",
      "r2_score 88.94202126890751 % random_state 161\n",
      "r2_score 90.68532449077472 % random_state 162\n",
      "r2_score 91.58087662675779 % random_state 163\n",
      "r2_score 92.29079409355325 % random_state 164\n",
      "r2_score 87.37349840804303 % random_state 165\n",
      "r2_score 88.76413134517512 % random_state 166\n",
      "r2_score 89.50127031189325 % random_state 167\n",
      "r2_score 91.35016977800076 % random_state 168\n",
      "r2_score 89.89039632391683 % random_state 169\n",
      "r2_score 88.35021684805446 % random_state 170\n",
      "r2_score 90.19156830055249 % random_state 171\n",
      "r2_score 89.76907481076408 % random_state 172\n",
      "r2_score 91.6274664409852 % random_state 173\n",
      "r2_score 88.67682211437102 % random_state 174\n",
      "r2_score 89.01839088002787 % random_state 175\n",
      "r2_score 89.29092641891555 % random_state 176\n",
      "r2_score 92.45304145612208 % random_state 177\n",
      "r2_score 91.40760106790218 % random_state 178\n",
      "r2_score 90.2295924598983 % random_state 179\n",
      "r2_score 85.99267330117186 % random_state 180\n",
      "r2_score 91.54433566466079 % random_state 181\n",
      "r2_score 92.31911863455399 % random_state 182\n",
      "r2_score 88.27543930212296 % random_state 183\n",
      "r2_score 89.85602159252996 % random_state 184\n",
      "r2_score 90.57485650512245 % random_state 185\n",
      "r2_score 88.46480067842681 % random_state 186\n",
      "r2_score 91.43286673402326 % random_state 187\n",
      "r2_score 89.96136907532755 % random_state 188\n",
      "r2_score 87.38559595146924 % random_state 189\n",
      "r2_score 90.67300359670233 % random_state 190\n",
      "r2_score 91.44547521888137 % random_state 191\n",
      "r2_score 91.3457558478662 % random_state 192\n",
      "r2_score 91.06659843605756 % random_state 193\n",
      "r2_score 93.46259044101011 % random_state 194\n",
      "r2_score 86.67963898496527 % random_state 195\n",
      "r2_score 91.4338200770186 % random_state 196\n",
      "r2_score 90.05686206305677 % random_state 197\n",
      "r2_score 91.01533899520372 % random_state 198\n",
      "r2_score 88.0356436108689 % random_state 199\n"
     ]
    }
   ],
   "source": [
    " max_r2_score = 0\n",
    "maxRS = 0\n",
    "\n",
    "for i in range(1,200):\n",
    "    x_train, x_test, y_train, y_test = train_test_split(X_scaled, y, test_size = 0.25, random_state = i)\n",
    "    reg = LinearRegression()\n",
    "    reg.fit(x_train, y_train)\n",
    "    y_pred = reg.predict(x_test)\n",
    "    r2_score = reg.score(x_test,y_test)\n",
    "    print('r2_score', r2_score*100,'%', 'random_state', i)\n",
    "    \n",
    "    if r2_score > max_r2_score:\n",
    "        max_r2_score = r2_score\n",
    "        maxRS = i\n",
    "        print('r2_score', max_r2_score*100,'%', 'random_state', i)   "
   ]
  },
  {
   "cell_type": "code",
   "execution_count": 313,
   "id": "ab38d2fd",
   "metadata": {},
   "outputs": [
    {
     "name": "stdout",
     "output_type": "stream",
     "text": [
      "best accuracy 0.9377908623980129 best random state 13\n"
     ]
    }
   ],
   "source": [
    "print('best accuracy',max_r2_score,'best random state',maxRS)"
   ]
  },
  {
   "cell_type": "code",
   "execution_count": 315,
   "id": "e99dfd33",
   "metadata": {},
   "outputs": [],
   "source": [
    "x_train,x_test,y_train,y_test=train_test_split(X_scaled,y,test_size=.25,random_state=13)"
   ]
  },
  {
   "cell_type": "code",
   "execution_count": 326,
   "id": "b4698403",
   "metadata": {},
   "outputs": [
    {
     "data": {
      "text/plain": [
       "LinearRegression()"
      ]
     },
     "execution_count": 326,
     "metadata": {},
     "output_type": "execute_result"
    }
   ],
   "source": [
    "lif=LinearRegression()\n",
    "lif.fit(x_train,y_train)"
   ]
  },
  {
   "cell_type": "code",
   "execution_count": 327,
   "id": "3ef083b7",
   "metadata": {},
   "outputs": [
    {
     "data": {
      "text/plain": [
       "0.8938478834972164"
      ]
     },
     "execution_count": 327,
     "metadata": {},
     "output_type": "execute_result"
    }
   ],
   "source": [
    "lif.score(x_train,y_train)\n",
    "\n"
   ]
  },
  {
   "cell_type": "code",
   "execution_count": 334,
   "id": "3eaabfe1",
   "metadata": {},
   "outputs": [
    {
     "data": {
      "text/plain": [
       "LinearRegression()"
      ]
     },
     "execution_count": 334,
     "metadata": {},
     "output_type": "execute_result"
    }
   ],
   "source": [
    "lif.fit(x_test,y_test)"
   ]
  },
  {
   "cell_type": "code",
   "execution_count": 336,
   "id": "503dfb20",
   "metadata": {},
   "outputs": [
    {
     "data": {
      "text/plain": [
       "0.944191124093016"
      ]
     },
     "execution_count": 336,
     "metadata": {},
     "output_type": "execute_result"
    }
   ],
   "source": [
    "lif.score(x_test,y_test)"
   ]
  },
  {
   "cell_type": "code",
   "execution_count": 338,
   "id": "9cdf1593",
   "metadata": {},
   "outputs": [],
   "source": [
    "y_pred=lif.predict(x_test)"
   ]
  },
  {
   "cell_type": "code",
   "execution_count": 340,
   "id": "be21b83f",
   "metadata": {},
   "outputs": [
    {
     "data": {
      "image/png": "[encoded data removed]",
      "text/plain": [
       "<Figure size 432x288 with 1 Axes>"
      ]
     },
     "metadata": {
      "needs_background": "light"
     },
     "output_type": "display_data"
    }
   ],
   "source": [
    "plt.scatter(y_test,y_pred)\n",
    "plt.xlabel('Actual chance of sales')\n",
    "plt.ylabel('prediction chance of sales')\n",
    "plt.title('Acutal  vs predicted ')\n",
    "plt.show()"
   ]
  },
  {
   "cell_type": "code",
   "execution_count": 343,
   "id": "1ca378cc",
   "metadata": {},
   "outputs": [],
   "source": [
    "from sklearn.metrics import mean_squared_error,mean_absolute_error"
   ]
  },
  {
   "cell_type": "code",
   "execution_count": 344,
   "id": "7cd8f433",
   "metadata": {},
   "outputs": [],
   "source": [
    "y_pred=lif.predict(x_test)"
   ]
  },
  {
   "cell_type": "code",
   "execution_count": 346,
   "id": "a4ccf2e9",
   "metadata": {},
   "outputs": [
    {
     "data": {
      "text/plain": [
       "1.023447151514977"
      ]
     },
     "execution_count": 346,
     "metadata": {},
     "output_type": "execute_result"
    }
   ],
   "source": [
    "mean_absolute_error(y_test,y_pred)"
   ]
  },
  {
   "cell_type": "code",
   "execution_count": 347,
   "id": "8664114d",
   "metadata": {},
   "outputs": [
    {
     "data": {
      "text/plain": [
       "1.7453882157233682"
      ]
     },
     "execution_count": 347,
     "metadata": {},
     "output_type": "execute_result"
    }
   ],
   "source": [
    "mean_squared_error(y_test,y_pred)"
   ]
  },
  {
   "cell_type": "code",
   "execution_count": 348,
   "id": "9258feee",
   "metadata": {},
   "outputs": [
    {
     "data": {
      "text/plain": [
       "1.321131415008881"
      ]
     },
     "execution_count": 348,
     "metadata": {},
     "output_type": "execute_result"
    }
   ],
   "source": [
    "np.sqrt(mean_squared_error(y_test,y_pred))"
   ]
  },
  {
   "cell_type": "code",
   "execution_count": 349,
   "id": "caf5d678",
   "metadata": {},
   "outputs": [],
   "source": [
    "from sklearn.linear_model import Ridge,Lasso,RidgeCV,LassoCV"
   ]
  },
  {
   "cell_type": "code",
   "execution_count": 350,
   "id": "575e466c",
   "metadata": {},
   "outputs": [
    {
     "data": {
      "text/plain": [
       "LassoCV(max_iter=100, normalize=True)"
      ]
     },
     "execution_count": 350,
     "metadata": {},
     "output_type": "execute_result"
    }
   ],
   "source": [
    "lasscv=LassoCV(alphas=None,max_iter=100,normalize=True)\n",
    "lasscv.fit(x_train,y_train)"
   ]
  },
  {
   "cell_type": "code",
   "execution_count": 351,
   "id": "d353d126",
   "metadata": {},
   "outputs": [
    {
     "data": {
      "text/plain": [
       "0.007914592788108358"
      ]
     },
     "execution_count": 351,
     "metadata": {},
     "output_type": "execute_result"
    }
   ],
   "source": [
    "alpha=lasscv.alpha_\n",
    "alpha"
   ]
  },
  {
   "cell_type": "code",
   "execution_count": 352,
   "id": "fa5f3a90",
   "metadata": {},
   "outputs": [
    {
     "data": {
      "text/plain": [
       "Lasso(alpha=0.007914592788108358)"
      ]
     },
     "execution_count": 352,
     "metadata": {},
     "output_type": "execute_result"
    }
   ],
   "source": [
    "lasso_reg=Lasso(alpha)\n",
    "lasso_reg.fit(x_train,y_train)"
   ]
  },
  {
   "cell_type": "code",
   "execution_count": 353,
   "id": "e2b5617a",
   "metadata": {},
   "outputs": [
    {
     "data": {
      "text/plain": [
       "0.9377325099930132"
      ]
     },
     "execution_count": 353,
     "metadata": {},
     "output_type": "execute_result"
    }
   ],
   "source": [
    "lasso_reg.score(x_test,y_test)"
   ]
  },
  {
   "cell_type": "code",
   "execution_count": 354,
   "id": "77cfe8de",
   "metadata": {},
   "outputs": [
    {
     "data": {
      "text/plain": [
       "RidgeCV(alphas=array([0.001, 0.011, 0.021, 0.031, 0.041, 0.051, 0.061, 0.071, 0.081,\n",
       "       0.091]),\n",
       "        normalize=True)"
      ]
     },
     "execution_count": 354,
     "metadata": {},
     "output_type": "execute_result"
    }
   ],
   "source": [
    "ridgecv=RidgeCV(alphas=np.arange(0.001,0.1,0.01),normalize=True)\n",
    "ridgecv.fit(x_train,y_train)"
   ]
  },
  {
   "cell_type": "code",
   "execution_count": 355,
   "id": "9e01a0ed",
   "metadata": {},
   "outputs": [
    {
     "data": {
      "text/plain": [
       "Ridge(alpha=0.001)"
      ]
     },
     "execution_count": 355,
     "metadata": {},
     "output_type": "execute_result"
    }
   ],
   "source": [
    "ridge_model=Ridge(alpha=ridgecv.alpha_)\n",
    "ridge_model.fit(x_train,y_train)"
   ]
  },
  {
   "cell_type": "code",
   "execution_count": 356,
   "id": "5afb972c",
   "metadata": {},
   "outputs": [
    {
     "data": {
      "text/plain": [
       "0.9377908196896938"
      ]
     },
     "execution_count": 356,
     "metadata": {},
     "output_type": "execute_result"
    }
   ],
   "source": [
    "ridge_model.score(x_test,y_test)"
   ]
  },
  {
   "cell_type": "code",
   "execution_count": 357,
   "id": "5896ba12",
   "metadata": {},
   "outputs": [
    {
     "name": "stdout",
     "output_type": "stream",
     "text": [
      "Best parameters:  {'copy_X': True, 'fit_intercept': True, 'normalize': True}\n",
      "R2 Score:  0.937790862398013\n",
      "Mean Squared Error:  1.94555245767338\n"
     ]
    }
   ],
   "source": [
    "param_grid = {'copy_X': [True,False],\n",
    "              'fit_intercept': [True,False],\n",
    "              'normalize': [True,False]}\n",
    "\n",
    "grd = GridSearchCV(lif, param_grid = param_grid)\n",
    "grd.fit(x_train, y_train)\n",
    "\n",
    "print(\"Best parameters: \", grd.best_params_)\n",
    "\n",
    "lif = grd.best_estimator_\n",
    "\n",
    "lif.fit(x_train, y_train)\n",
    "\n",
    "y_pred = lif.predict(x_test)\n",
    "\n",
    "print('R2 Score: ', lif.score(x_test, y_test))\n",
    "\n",
    "print('Mean Squared Error: ', mean_squared_error(y_test, y_pred))"
   ]
  },
  {
   "cell_type": "code",
   "execution_count": 365,
   "id": "95c3476f",
   "metadata": {},
   "outputs": [
    {
     "name": "stdout",
     "output_type": "stream",
     "text": [
      "Best parameters:  {'algorithm': 'kd_tree', 'leaf_size': 3, 'n_neighbors': 5}\n",
      "R2 Score:  0.9096310897762208\n",
      "Mean Squared Error:  2.8262319999999987\n"
     ]
    }
   ],
   "source": [
    "from sklearn.neighbors import KNeighborsRegressor\n",
    "\n",
    "knn = KNeighborsRegressor()\n",
    "\n",
    "param_grid = {'algorithm': ['kd_tree', 'brute'],\n",
    "              'leaf_size': [3,5,6,7,8,9,10],\n",
    "              'n_neighbors': [1,3,5,7,9,11,13]}\n",
    "\n",
    "grd = GridSearchCV(knn, param_grid = param_grid)\n",
    "grd.fit(x_train, y_train)\n",
    "\n",
    "print(\"Best parameters: \", grd.best_params_)\n",
    "\n",
    "knn = grd.best_estimator_\n",
    "\n",
    "knn.fit(x_train, y_train)\n",
    "y_pred = knn.predict(x_test)\n",
    "\n",
    "\n",
    "print('R2 Score: ', knn.score(x_test, y_test))\n",
    "\n",
    "print('Mean Squared Error: ', mean_squared_error(y_test, y_pred))\n"
   ]
  },
  {
   "cell_type": "code",
   "execution_count": 366,
   "id": "c7e60c64",
   "metadata": {},
   "outputs": [
    {
     "name": "stdout",
     "output_type": "stream",
     "text": [
      "Best Param ==> {'max_depth': 11, 'min_samples_leaf': 1, 'min_samples_split': 2, 'n_estimators': 70}\n",
      "R2 Score:  0.975274576860268\n",
      "Mean Squared Error:  0.7732723778344659\n"
     ]
    }
   ],
   "source": [
    "from sklearn.ensemble import RandomForestRegressor\n",
    "\n",
    "rf = RandomForestRegressor()\n",
    "\n",
    "param_grid = {'n_estimators': np.arange(10,100,10),\n",
    "         'max_depth': np.arange(1,21,5),\n",
    "         'min_samples_split': np.arange(2,21,5),\n",
    "         'min_samples_leaf': np.arange(1,11,2)}\n",
    "\n",
    "grd = GridSearchCV(rf, param_grid = param_grid)\n",
    "grd.fit(x_train, y_train)\n",
    "\n",
    "print('Best Param ==>', grd.best_params_)\n",
    "\n",
    "rf = grd.best_estimator_\n",
    "\n",
    "rf.fit(x_train, y_train)\n",
    "y_pred = rf.predict(x_test)\n",
    "\n",
    "\n",
    "print('R2 Score: ', rf.score(x_test, y_test))\n",
    "\n",
    "print('Mean Squared Error: ', mean_squared_error(y_test, y_pred))"
   ]
  },
  {
   "cell_type": "code",
   "execution_count": 374,
   "id": "7c12bf88",
   "metadata": {},
   "outputs": [
    {
     "name": "stdout",
     "output_type": "stream",
     "text": [
      "Best parameters:  {'C': 10, 'epsilon': 0.01, 'gamma': 0.1}\n",
      "R2 Score:  0.9778350200233888\n",
      "Mean Squared Error:  0.6931960951408493\n"
     ]
    }
   ],
   "source": [
    "from sklearn import svm\n",
    "\n",
    "regr = svm.SVR()\n",
    "\n",
    "param_grid = {'C':[0.001, 2,3,4,5,6,7,10],\n",
    "              'gamma': [0.1, 0.2, 0.3, 0.4, 0.5, 0.6, 1],\n",
    "             'epsilon' : [0.01, 0.05, 0.075, 0.1]}\n",
    "\n",
    "grd = GridSearchCV(regr, param_grid = param_grid)\n",
    "grd.fit(x_train, y_train)\n",
    "\n",
    "print(\"Best parameters: \", grd.best_params_)\n",
    "\n",
    "regr = grd.best_estimator_\n",
    "\n",
    "regr.fit(x_train, y_train)\n",
    "\n",
    "y_pred = regr.predict(x_test)\n",
    "\n",
    "print('R2 Score: ', regr.score(x_test, y_test))\n",
    "\n",
    "print('Mean Squared Error: ', mean_squared_error(y_test, y_pred))"
   ]
  },
  {
   "cell_type": "code",
   "execution_count": null,
   "id": "6e77f808",
   "metadata": {},
   "outputs": [],
   "source": []
  }
 ],
 "metadata": {
  "kernelspec": {
   "display_name": "Python 3 (ipykernel)",
   "language": "python",
   "name": "python3"
  },
  "language_info": {
   "codemirror_mode": {
    "name": "ipython",
    "version": 3
   },
   "file_extension": ".py",
   "mimetype": "text/x-python",
   "name": "python",
   "nbconvert_exporter": "python",
   "pygments_lexer": "ipython3",
   "version": "3.9.7"
  }
 },
 "nbformat": 4,
 "nbformat_minor": 5
}
